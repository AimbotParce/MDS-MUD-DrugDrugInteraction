{
 "cells": [
  {
   "cell_type": "code",
   "execution_count": null,
   "id": "2aec1cd0",
   "metadata": {},
   "outputs": [],
   "source": [
    "import os\n",
    "from xml.dom.minidom import parse\n",
    "import nltk\n",
    "import pandas as pd\n",
    "import numpy as np\n",
    "import gc\n",
    "from collections import defaultdict"
   ]
  },
  {
   "cell_type": "code",
   "execution_count": 144,
   "id": "59223832",
   "metadata": {},
   "outputs": [
    {
     "data": {
      "text/plain": [
       "86478"
      ]
     },
     "execution_count": 144,
     "metadata": {},
     "output_type": "execute_result"
    }
   ],
   "source": [
    "datadir = \"../data/train\"\n",
    "rows = []\n",
    "\n",
    "# process each file in directory\n",
    "for f in os.listdir(datadir):\n",
    "\n",
    "    # parse XML file, obtaining a DOM tree\n",
    "    xml_tree = parse(datadir + \"/\" + f)\n",
    "\n",
    "    # process each sentence in the file\n",
    "    xml_sentences = xml_tree.getElementsByTagName(\"sentence\")\n",
    "    for xml_sentence in xml_sentences:\n",
    "        sentence_id = xml_sentence.attributes[\"id\"].value  # get sentence id\n",
    "        sentence_text = xml_sentence.attributes[\"text\"].value  # get sentence text\n",
    "\n",
    "        # there are no entity pairs, skip sentence\n",
    "        if len(xml_sentence.getElementsByTagName(\"entity\")) <= 1:\n",
    "            continue\n",
    "\n",
    "        # get entities in the sentence\n",
    "        xml_entities = xml_sentence.getElementsByTagName(\"entity\")\n",
    "        entities: set[str] = set()\n",
    "        for xml_entity in xml_entities:\n",
    "            entities.add(xml_entity.attributes[\"text\"].value)  # get entity text\n",
    "\n",
    "        # for each pair in the sentence, decide whether it is DDI and its type\n",
    "        xml_pairs = xml_sentence.getElementsByTagName(\"pair\")\n",
    "        for xml_pair in xml_pairs:\n",
    "            pair_id = xml_pair.attributes[\"id\"].value  # get pair id\n",
    "            # ground truth\n",
    "            is_interaction = xml_pair.attributes[\"ddi\"].value\n",
    "            if is_interaction == \"true\":\n",
    "                interaction_type = xml_pair.attributes[\"type\"].value\n",
    "            else:\n",
    "                interaction_type = \"null\"\n",
    "\n",
    "            words = set(nltk.word_tokenize(sentence_text)) - entities  # get words in the sentence, excluding entities\n",
    "            rows.append({\"pair_id\": pair_id, \"interaction\": interaction_type, \"words\": words})\n",
    "\n",
    "# create pandas dataframe\n",
    "df = pd.DataFrame(rows)\n",
    "df[\"interaction\"] = df[\"interaction\"].astype(\"category\")\n",
    "df.head()\n",
    "del rows\n",
    "gc.collect()"
   ]
  },
  {
   "cell_type": "code",
   "execution_count": 145,
   "id": "46b3fa16",
   "metadata": {},
   "outputs": [
    {
     "data": {
      "application/vnd.microsoft.datawrangler.viewer.v0+json": {
       "columns": [
        {
         "name": "index",
         "rawType": "object",
         "type": "string"
        },
        {
         "name": "null",
         "rawType": "float64",
         "type": "float"
        },
        {
         "name": "int",
         "rawType": "float64",
         "type": "float"
        },
        {
         "name": "effect",
         "rawType": "float64",
         "type": "float"
        },
        {
         "name": "mechanism",
         "rawType": "float64",
         "type": "float"
        },
        {
         "name": "advise",
         "rawType": "float64",
         "type": "float"
        }
       ],
       "conversionMethod": "pd.DataFrame",
       "ref": "a7b09f4b-991e-4b93-b3a4-5ab029b029c2",
       "rows": [
        [
         "problems",
         "45.0",
         "3.0",
         "1.0",
         "0.0",
         "0.0"
        ],
        [
         "of",
         "12789.0",
         "117.0",
         "1087.0",
         "874.0",
         "460.0"
        ],
        [
         "treatment",
         "303.0",
         "0.0",
         "26.0",
         "16.0",
         "41.0"
        ],
        [
         "typical",
         "2.0",
         "1.0",
         "0.0",
         "0.0",
         "0.0"
        ],
        [
         ".",
         "18155.0",
         "217.0",
         "1409.0",
         "964.0",
         "661.0"
        ],
        [
         "illustrated",
         "1.0",
         "0.0",
         "0.0",
         "0.0",
         "0.0"
        ],
        [
         "The",
         "1916.0",
         "6.0",
         "245.0",
         "92.0",
         "27.0"
        ],
        [
         "by",
         "2410.0",
         "0.0",
         "244.0",
         "228.0",
         "83.0"
        ],
        [
         "psychotic",
         "128.0",
         "8.0",
         "2.0",
         "0.0",
         "0.0"
        ],
        [
         "incisive",
         "1.0",
         "0.0",
         "0.0",
         "0.0",
         "0.0"
        ],
        [
         "are",
         "3343.0",
         "6.0",
         "129.0",
         "174.0",
         "131.0"
        ],
        [
         "longterm",
         "1.0",
         "0.0",
         "0.0",
         "0.0",
         "0.0"
        ],
        [
         "encountered",
         "1.0",
         "0.0",
         "0.0",
         "0.0",
         "0.0"
        ],
        [
         "six",
         "11.0",
         "0.0",
         "0.0",
         "2.0",
         "0.0"
        ],
        [
         "reports",
         "257.0",
         "10.0",
         "51.0",
         "2.0",
         "3.0"
        ],
        [
         "case",
         "15.0",
         "0.0",
         "5.0",
         "2.0",
         "1.0"
        ],
        [
         "patients",
         "1778.0",
         "3.0",
         "212.0",
         "58.0",
         "145.0"
        ],
        [
         "with",
         "8378.0",
         "154.0",
         "572.0",
         "355.0",
         "486.0"
        ],
        [
         ";",
         "2527.0",
         "0.0",
         "101.0",
         "26.0",
         "22.0"
        ],
        [
         "therapeutic",
         "368.0",
         "0.0",
         "12.0",
         "22.0",
         "31.0"
        ],
        [
         "]",
         "233.0",
         "0.0",
         "17.0",
         "4.0",
         "27.0"
        ],
        [
         "monitoring",
         "72.0",
         "0.0",
         "1.0",
         "1.0",
         "14.0"
        ],
        [
         "[",
         "233.0",
         "0.0",
         "17.0",
         "4.0",
         "27.0"
        ],
        [
         "the",
         "11012.0",
         "150.0",
         "783.0",
         "629.0",
         "290.0"
        ],
        [
         "during",
         "431.0",
         "21.0",
         "27.0",
         "14.0",
         "24.0"
        ],
        [
         "Quantitative",
         "1.0",
         "0.0",
         "0.0",
         "0.0",
         "0.0"
        ],
        [
         "to",
         "5529.0",
         "25.0",
         "338.0",
         "377.0",
         "201.0"
        ],
        [
         "approach",
         "3.0",
         "0.0",
         "1.0",
         "0.0",
         "0.0"
        ],
        [
         "oral",
         "4663.0",
         "16.0",
         "165.0",
         "136.0",
         "26.0"
        ],
        [
         "and",
         "12649.0",
         "193.0",
         "866.0",
         "634.0",
         "378.0"
        ],
        [
         ",",
         "17165.0",
         "200.0",
         "1029.0",
         "740.0",
         "536.0"
        ],
        [
         "decrease",
         "665.0",
         "21.0",
         "43.0",
         "105.0",
         "4.0"
        ],
        [
         "certain",
         "890.0",
         "37.0",
         "98.0",
         "13.0",
         "42.0"
        ],
        [
         "effectiveness",
         "213.0",
         "7.0",
         "18.0",
         "0.0",
         "0.0"
        ],
        [
         "may",
         "6577.0",
         "161.0",
         "705.0",
         "294.0",
         "94.0"
        ],
        [
         "beta",
         "496.0",
         "15.0",
         "38.0",
         "0.0",
         "5.0"
        ],
        [
         "blockers",
         "555.0",
         "15.0",
         "34.0",
         "4.0",
         "10.0"
        ],
        [
         "use",
         "1397.0",
         "19.0",
         "167.0",
         "41.0",
         "62.0"
        ],
        [
         "other",
         "3627.0",
         "66.0",
         "371.0",
         "92.0",
         "172.0"
        ],
        [
         "both",
         "258.0",
         "2.0",
         "26.0",
         "18.0",
         "9.0"
        ],
        [
         "tobacco",
         "1.0",
         "0.0",
         "0.0",
         "0.0",
         "0.0"
        ],
        [
         "Many",
         "11.0",
         "0.0",
         "0.0",
         "0.0",
         "0.0"
        ],
        [
         "i.e.",
         "78.0",
         "0.0",
         "0.0",
         "19.0",
         "5.0"
        ],
        [
         "people",
         "1.0",
         "0.0",
         "0.0",
         "0.0",
         "0.0"
        ],
        [
         "(",
         "10655.0",
         "152.0",
         "458.0",
         "449.0",
         "287.0"
        ],
        [
         ")",
         "10608.0",
         "152.0",
         "455.0",
         "449.0",
         "284.0"
        ],
        [
         "cigarettes",
         "1.0",
         "0.0",
         "0.0",
         "0.0",
         "0.0"
        ],
        [
         "products",
         "389.0",
         "0.0",
         "18.0",
         "9.0",
         "14.0"
        ],
        [
         "personality",
         "1.0",
         "0.0",
         "0.0",
         "0.0",
         "0.0"
        ],
        [
         "user",
         "1.0",
         "0.0",
         "0.0",
         "0.0",
         "0.0"
        ]
       ],
       "shape": {
        "columns": 5,
        "rows": 5714
       }
      },
      "text/html": [
       "<div>\n",
       "<style scoped>\n",
       "    .dataframe tbody tr th:only-of-type {\n",
       "        vertical-align: middle;\n",
       "    }\n",
       "\n",
       "    .dataframe tbody tr th {\n",
       "        vertical-align: top;\n",
       "    }\n",
       "\n",
       "    .dataframe thead th {\n",
       "        text-align: right;\n",
       "    }\n",
       "</style>\n",
       "<table border=\"1\" class=\"dataframe\">\n",
       "  <thead>\n",
       "    <tr style=\"text-align: right;\">\n",
       "      <th></th>\n",
       "      <th>null</th>\n",
       "      <th>int</th>\n",
       "      <th>effect</th>\n",
       "      <th>mechanism</th>\n",
       "      <th>advise</th>\n",
       "    </tr>\n",
       "  </thead>\n",
       "  <tbody>\n",
       "    <tr>\n",
       "      <th>problems</th>\n",
       "      <td>45.0</td>\n",
       "      <td>3.0</td>\n",
       "      <td>1.0</td>\n",
       "      <td>0.0</td>\n",
       "      <td>0.0</td>\n",
       "    </tr>\n",
       "    <tr>\n",
       "      <th>of</th>\n",
       "      <td>12789.0</td>\n",
       "      <td>117.0</td>\n",
       "      <td>1087.0</td>\n",
       "      <td>874.0</td>\n",
       "      <td>460.0</td>\n",
       "    </tr>\n",
       "    <tr>\n",
       "      <th>treatment</th>\n",
       "      <td>303.0</td>\n",
       "      <td>0.0</td>\n",
       "      <td>26.0</td>\n",
       "      <td>16.0</td>\n",
       "      <td>41.0</td>\n",
       "    </tr>\n",
       "    <tr>\n",
       "      <th>typical</th>\n",
       "      <td>2.0</td>\n",
       "      <td>1.0</td>\n",
       "      <td>0.0</td>\n",
       "      <td>0.0</td>\n",
       "      <td>0.0</td>\n",
       "    </tr>\n",
       "    <tr>\n",
       "      <th>.</th>\n",
       "      <td>18155.0</td>\n",
       "      <td>217.0</td>\n",
       "      <td>1409.0</td>\n",
       "      <td>964.0</td>\n",
       "      <td>661.0</td>\n",
       "    </tr>\n",
       "    <tr>\n",
       "      <th>...</th>\n",
       "      <td>...</td>\n",
       "      <td>...</td>\n",
       "      <td>...</td>\n",
       "      <td>...</td>\n",
       "      <td>...</td>\n",
       "    </tr>\n",
       "    <tr>\n",
       "      <th>anhydrase</th>\n",
       "      <td>0.0</td>\n",
       "      <td>0.0</td>\n",
       "      <td>0.0</td>\n",
       "      <td>0.0</td>\n",
       "      <td>1.0</td>\n",
       "    </tr>\n",
       "    <tr>\n",
       "      <th>tachypnea</th>\n",
       "      <td>0.0</td>\n",
       "      <td>0.0</td>\n",
       "      <td>0.0</td>\n",
       "      <td>0.0</td>\n",
       "      <td>1.0</td>\n",
       "    </tr>\n",
       "    <tr>\n",
       "      <th>anorexia</th>\n",
       "      <td>0.0</td>\n",
       "      <td>0.0</td>\n",
       "      <td>0.0</td>\n",
       "      <td>0.0</td>\n",
       "      <td>1.0</td>\n",
       "    </tr>\n",
       "    <tr>\n",
       "      <th>PCP</th>\n",
       "      <td>0.0</td>\n",
       "      <td>0.0</td>\n",
       "      <td>0.0</td>\n",
       "      <td>0.0</td>\n",
       "      <td>1.0</td>\n",
       "    </tr>\n",
       "    <tr>\n",
       "      <th>T.A</th>\n",
       "      <td>0.0</td>\n",
       "      <td>0.0</td>\n",
       "      <td>0.0</td>\n",
       "      <td>0.0</td>\n",
       "      <td>1.0</td>\n",
       "    </tr>\n",
       "  </tbody>\n",
       "</table>\n",
       "<p>5714 rows × 5 columns</p>\n",
       "</div>"
      ],
      "text/plain": [
       "              null    int  effect  mechanism  advise\n",
       "problems      45.0    3.0     1.0        0.0     0.0\n",
       "of         12789.0  117.0  1087.0      874.0   460.0\n",
       "treatment    303.0    0.0    26.0       16.0    41.0\n",
       "typical        2.0    1.0     0.0        0.0     0.0\n",
       ".          18155.0  217.0  1409.0      964.0   661.0\n",
       "...            ...    ...     ...        ...     ...\n",
       "anhydrase      0.0    0.0     0.0        0.0     1.0\n",
       "tachypnea      0.0    0.0     0.0        0.0     1.0\n",
       "anorexia       0.0    0.0     0.0        0.0     1.0\n",
       "PCP            0.0    0.0     0.0        0.0     1.0\n",
       "T.A            0.0    0.0     0.0        0.0     1.0\n",
       "\n",
       "[5714 rows x 5 columns]"
      ]
     },
     "execution_count": 145,
     "metadata": {},
     "output_type": "execute_result"
    }
   ],
   "source": [
    "# Compute the histogram of the appearances of each word depending on the interaction type\n",
    "counts = defaultdict(lambda: defaultdict(int))\n",
    "for i, probs in df.iterrows():\n",
    "    for word in probs[\"words\"]:\n",
    "        counts[word][probs[\"interaction\"]] += 1\n",
    "\n",
    "\n",
    "counts = pd.DataFrame.from_dict(counts, orient=\"index\").fillna(0)\n",
    "counts"
   ]
  },
  {
   "cell_type": "code",
   "execution_count": 146,
   "id": "4d192a53",
   "metadata": {},
   "outputs": [
    {
     "data": {
      "application/vnd.microsoft.datawrangler.viewer.v0+json": {
       "columns": [
        {
         "name": "index",
         "rawType": "object",
         "type": "string"
        },
        {
         "name": "prob_yes",
         "rawType": "float64",
         "type": "float"
        },
        {
         "name": "prob_no",
         "rawType": "float64",
         "type": "float"
        }
       ],
       "conversionMethod": "pd.DataFrame",
       "ref": "2489cf01-6155-4fdf-bbb6-4a7dc245902f",
       "rows": [
        [
         ".",
         "0.9247451183687576",
         "0.07525488163124239"
        ],
        [
         ",",
         "0.8497494383964057",
         "0.1502505616035943"
        ],
        [
         "of",
         "0.6621306376360808",
         "0.3378693623639192"
        ],
        [
         "and",
         "0.6359080698116468",
         "0.3640919301883532"
        ],
        [
         "the",
         "0.5557283566614827",
         "0.4442716433385173"
        ],
        [
         "(",
         "0.5184465180577156",
         "0.4815534819422844"
        ],
        [
         ")",
         "0.5161569034041817",
         "0.48384309659581826"
        ],
        [
         ":",
         "0.4336875756004838",
         "0.5663124243995161"
        ],
        [
         "with",
         "0.4296267496111975",
         "0.5703732503888025"
        ],
        [
         "in",
         "0.3761448073267669",
         "0.6238551926732331"
        ],
        [
         "may",
         "0.3383013651287368",
         "0.6616986348712632"
        ],
        [
         "or",
         "0.3281060998790392",
         "0.6718939001209607"
        ],
        [
         "inhibitors",
         "0.2954898911353033",
         "0.7045101088646968"
        ],
        [
         "drugs",
         "0.2919042681873164",
         "0.7080957318126836"
        ],
        [
         "to",
         "0.2795057888370486",
         "0.7204942111629514"
        ],
        [
         "that",
         "0.2695265249697598",
         "0.7304734750302402"
        ],
        [
         "oral",
         "0.21626058406773804",
         "0.7837394159322619"
        ],
        [
         "as",
         "0.2044237083117332",
         "0.7955762916882668"
        ],
        [
         "other",
         "0.18697079661309832",
         "0.8130292033869017"
        ],
        [
         "such",
         "0.1797563504406428",
         "0.8202436495593572"
        ],
        [
         "following",
         "0.17802833938137205",
         "0.8219716606186279"
        ],
        [
         "been",
         "0.16822187662001037",
         "0.8317781233799897"
        ],
        [
         "are",
         "0.16342664593053396",
         "0.836573354069466"
        ],
        [
         "a",
         "0.16191463625367203",
         "0.8380853637463279"
        ],
        [
         "have",
         "0.1601002246414377",
         "0.8398997753585623"
        ],
        [
         "increase",
         "0.15664420252289615",
         "0.8433557974771039"
        ],
        [
         "be",
         "0.1473993433557975",
         "0.8526006566442025"
        ],
        [
         "is",
         "0.1320632452047693",
         "0.8679367547952307"
        ],
        [
         "plasma",
         "0.13150164161050631",
         "0.8684983583894936"
        ],
        [
         "by",
         "0.12808881976844652",
         "0.8719111802315535"
        ],
        [
         "include",
         "0.12636080870917574",
         "0.8736391912908242"
        ],
        [
         "acid",
         "0.1247191982028685",
         "0.8752808017971315"
        ],
        [
         "increased",
         "0.11923276308968378",
         "0.8807672369103162"
        ],
        [
         ";",
         "0.11560393986521514",
         "0.8843960601347849"
        ],
        [
         "protease",
         "0.11512873682391567",
         "0.8848712631760843"
        ],
        [
         "levels",
         "0.11426473129428029",
         "0.8857352687057197"
        ],
        [
         "Drugs",
         "0.11387592880594435",
         "0.8861240711940557"
        ],
        [
         "not",
         "0.11279592189390011",
         "0.8872040781060999"
        ],
        [
         "sodium",
         "0.11050630724036634",
         "0.8894936927596336"
        ],
        [
         "The",
         "0.09875583203732503",
         "0.9012441679626749"
        ],
        [
         "blood",
         "0.09745982374287196",
         "0.902540176257128"
        ],
        [
         "e.g.",
         "0.09715742180749957",
         "0.9028425781925005"
        ],
        [
         "oxidase",
         "0.09681181959564542",
         "0.9031881804043546"
        ],
        [
         "on",
         "0.09491100743044756",
         "0.9050889925695524"
        ],
        [
         "patients",
         "0.09486780715396578",
         "0.9051321928460342"
        ],
        [
         "thyroid",
         "0.09404700190081217",
         "0.9059529980991878"
        ],
        [
         "should",
         "0.09253499222395023",
         "0.9074650077760498"
        ],
        [
         "agents",
         "0.09093658199412476",
         "0.9090634180058752"
        ],
        [
         "monoamine",
         "0.09063418005875237",
         "0.9093658199412477"
        ],
        [
         "interact",
         "0.09011577674097114",
         "0.9098842232590288"
        ]
       ],
       "shape": {
        "columns": 2,
        "rows": 5714
       }
      },
      "text/html": [
       "<div>\n",
       "<style scoped>\n",
       "    .dataframe tbody tr th:only-of-type {\n",
       "        vertical-align: middle;\n",
       "    }\n",
       "\n",
       "    .dataframe tbody tr th {\n",
       "        vertical-align: top;\n",
       "    }\n",
       "\n",
       "    .dataframe thead th {\n",
       "        text-align: right;\n",
       "    }\n",
       "</style>\n",
       "<table border=\"1\" class=\"dataframe\">\n",
       "  <thead>\n",
       "    <tr style=\"text-align: right;\">\n",
       "      <th></th>\n",
       "      <th>prob_yes</th>\n",
       "      <th>prob_no</th>\n",
       "    </tr>\n",
       "  </thead>\n",
       "  <tbody>\n",
       "    <tr>\n",
       "      <th>.</th>\n",
       "      <td>0.924745</td>\n",
       "      <td>0.075255</td>\n",
       "    </tr>\n",
       "    <tr>\n",
       "      <th>,</th>\n",
       "      <td>0.849749</td>\n",
       "      <td>0.150251</td>\n",
       "    </tr>\n",
       "    <tr>\n",
       "      <th>of</th>\n",
       "      <td>0.662131</td>\n",
       "      <td>0.337869</td>\n",
       "    </tr>\n",
       "    <tr>\n",
       "      <th>and</th>\n",
       "      <td>0.635908</td>\n",
       "      <td>0.364092</td>\n",
       "    </tr>\n",
       "    <tr>\n",
       "      <th>the</th>\n",
       "      <td>0.555728</td>\n",
       "      <td>0.444272</td>\n",
       "    </tr>\n",
       "    <tr>\n",
       "      <th>...</th>\n",
       "      <td>...</td>\n",
       "      <td>...</td>\n",
       "    </tr>\n",
       "    <tr>\n",
       "      <th>non-enzyme</th>\n",
       "      <td>0.000043</td>\n",
       "      <td>0.999957</td>\n",
       "    </tr>\n",
       "    <tr>\n",
       "      <th>fertility</th>\n",
       "      <td>0.000043</td>\n",
       "      <td>0.999957</td>\n",
       "    </tr>\n",
       "    <tr>\n",
       "      <th>~7</th>\n",
       "      <td>0.000043</td>\n",
       "      <td>0.999957</td>\n",
       "    </tr>\n",
       "    <tr>\n",
       "      <th>females</th>\n",
       "      <td>0.000043</td>\n",
       "      <td>0.999957</td>\n",
       "    </tr>\n",
       "    <tr>\n",
       "      <th>presented</th>\n",
       "      <td>0.000043</td>\n",
       "      <td>0.999957</td>\n",
       "    </tr>\n",
       "  </tbody>\n",
       "</table>\n",
       "<p>5714 rows × 2 columns</p>\n",
       "</div>"
      ],
      "text/plain": [
       "            prob_yes   prob_no\n",
       ".           0.924745  0.075255\n",
       ",           0.849749  0.150251\n",
       "of          0.662131  0.337869\n",
       "and         0.635908  0.364092\n",
       "the         0.555728  0.444272\n",
       "...              ...       ...\n",
       "non-enzyme  0.000043  0.999957\n",
       "fertility   0.000043  0.999957\n",
       "~7          0.000043  0.999957\n",
       "females     0.000043  0.999957\n",
       "presented   0.000043  0.999957\n",
       "\n",
       "[5714 rows x 2 columns]"
      ]
     },
     "execution_count": 146,
     "metadata": {},
     "output_type": "execute_result"
    }
   ],
   "source": [
    "word_probs = pd.DataFrame(counts.sum(axis=1) / len(df), columns=[\"prob_yes\"])\n",
    "word_probs[\"prob_no\"] = 1 - word_probs[\"prob_yes\"]\n",
    "word_probs.sort_values(by=\"prob_yes\", ascending=False)"
   ]
  },
  {
   "cell_type": "code",
   "execution_count": 147,
   "id": "324b5e0b",
   "metadata": {},
   "outputs": [
    {
     "data": {
      "application/vnd.microsoft.datawrangler.viewer.v0+json": {
       "columns": [
        {
         "name": "index",
         "rawType": "object",
         "type": "string"
        },
        {
         "name": "null",
         "rawType": "float64",
         "type": "float"
        },
        {
         "name": "int",
         "rawType": "float64",
         "type": "float"
        },
        {
         "name": "effect",
         "rawType": "float64",
         "type": "float"
        },
        {
         "name": "mechanism",
         "rawType": "float64",
         "type": "float"
        },
        {
         "name": "advise",
         "rawType": "float64",
         "type": "float"
        }
       ],
       "conversionMethod": "pd.DataFrame",
       "ref": "f04b13ec-efc3-49b5-9eb7-3894677df49c",
       "rows": [
        [
         "problems",
         "0.002278481012658228",
         "0.012987012987012988",
         "0.000689655172413793",
         "0.0",
         "0.0"
        ],
        [
         "of",
         "0.6475443037974683",
         "0.5064935064935064",
         "0.7496551724137931",
         "0.8568627450980392",
         "0.6599713055954088"
        ],
        [
         "treatment",
         "0.015341772151898735",
         "0.0",
         "0.01793103448275862",
         "0.01568627450980392",
         "0.058823529411764705"
        ],
        [
         "typical",
         "0.00010126582278481013",
         "0.004329004329004329",
         "0.0",
         "0.0",
         "0.0"
        ],
        [
         ".",
         "0.9192405063291139",
         "0.9393939393939394",
         "0.9717241379310345",
         "0.9450980392156862",
         "0.9483500717360115"
        ],
        [
         "illustrated",
         "5.0632911392405066e-05",
         "0.0",
         "0.0",
         "0.0",
         "0.0"
        ],
        [
         "The",
         "0.0970126582278481",
         "0.025974025974025976",
         "0.16896551724137931",
         "0.09019607843137255",
         "0.03873744619799139"
        ],
        [
         "by",
         "0.1220253164556962",
         "0.0",
         "0.16827586206896553",
         "0.2235294117647059",
         "0.11908177905308465"
        ],
        [
         "psychotic",
         "0.0064810126582278485",
         "0.03463203463203463",
         "0.001379310344827586",
         "0.0",
         "0.0"
        ],
        [
         "incisive",
         "5.0632911392405066e-05",
         "0.0",
         "0.0",
         "0.0",
         "0.0"
        ],
        [
         "are",
         "0.16926582278481012",
         "0.025974025974025976",
         "0.08896551724137931",
         "0.17058823529411765",
         "0.18794835007173602"
        ],
        [
         "longterm",
         "5.0632911392405066e-05",
         "0.0",
         "0.0",
         "0.0",
         "0.0"
        ],
        [
         "encountered",
         "5.0632911392405066e-05",
         "0.0",
         "0.0",
         "0.0",
         "0.0"
        ],
        [
         "six",
         "0.0005569620253164557",
         "0.0",
         "0.0",
         "0.00196078431372549",
         "0.0"
        ],
        [
         "reports",
         "0.013012658227848101",
         "0.04329004329004329",
         "0.03517241379310345",
         "0.00196078431372549",
         "0.00430416068866571"
        ],
        [
         "case",
         "0.0007594936708860759",
         "0.0",
         "0.0034482758620689655",
         "0.00196078431372549",
         "0.0014347202295552368"
        ],
        [
         "patients",
         "0.0900253164556962",
         "0.012987012987012988",
         "0.14620689655172414",
         "0.056862745098039215",
         "0.20803443328550933"
        ],
        [
         "with",
         "0.42420253164556965",
         "0.6666666666666666",
         "0.39448275862068966",
         "0.3480392156862745",
         "0.697274031563845"
        ],
        [
         ";",
         "0.1279493670886076",
         "0.0",
         "0.0696551724137931",
         "0.025490196078431372",
         "0.03156384505021521"
        ],
        [
         "therapeutic",
         "0.018632911392405062",
         "0.0",
         "0.008275862068965517",
         "0.021568627450980392",
         "0.04447632711621234"
        ],
        [
         "]",
         "0.01179746835443038",
         "0.0",
         "0.011724137931034483",
         "0.00392156862745098",
         "0.03873744619799139"
        ],
        [
         "monitoring",
         "0.0036455696202531643",
         "0.0",
         "0.000689655172413793",
         "0.000980392156862745",
         "0.020086083213773313"
        ],
        [
         "[",
         "0.01179746835443038",
         "0.0",
         "0.011724137931034483",
         "0.00392156862745098",
         "0.03873744619799139"
        ],
        [
         "the",
         "0.5575696202531646",
         "0.6493506493506493",
         "0.54",
         "0.6166666666666667",
         "0.41606886657101866"
        ],
        [
         "during",
         "0.02182278481012658",
         "0.09090909090909091",
         "0.018620689655172412",
         "0.013725490196078431",
         "0.03443328550932568"
        ],
        [
         "Quantitative",
         "5.0632911392405066e-05",
         "0.0",
         "0.0",
         "0.0",
         "0.0"
        ],
        [
         "to",
         "0.27994936708860757",
         "0.10822510822510822",
         "0.23310344827586207",
         "0.3696078431372549",
         "0.2883787661406026"
        ],
        [
         "approach",
         "0.0001518987341772152",
         "0.0",
         "0.000689655172413793",
         "0.0",
         "0.0"
        ],
        [
         "oral",
         "0.23610126582278482",
         "0.06926406926406926",
         "0.11379310344827587",
         "0.13333333333333333",
         "0.03730272596843615"
        ],
        [
         "and",
         "0.6404556962025316",
         "0.8354978354978355",
         "0.5972413793103448",
         "0.6215686274509804",
         "0.5423242467718795"
        ],
        [
         ",",
         "0.8691139240506329",
         "0.8658008658008658",
         "0.7096551724137931",
         "0.7254901960784313",
         "0.7690100430416069"
        ],
        [
         "decrease",
         "0.03367088607594937",
         "0.09090909090909091",
         "0.029655172413793104",
         "0.10294117647058823",
         "0.005738880918220947"
        ],
        [
         "certain",
         "0.045063291139240506",
         "0.16017316017316016",
         "0.06758620689655172",
         "0.012745098039215686",
         "0.06025824964131994"
        ],
        [
         "effectiveness",
         "0.010784810126582278",
         "0.030303030303030304",
         "0.012413793103448275",
         "0.0",
         "0.0"
        ],
        [
         "may",
         "0.3330126582278481",
         "0.696969696969697",
         "0.4862068965517241",
         "0.28823529411764703",
         "0.13486370157819225"
        ],
        [
         "beta",
         "0.02511392405063291",
         "0.06493506493506493",
         "0.02620689655172414",
         "0.0",
         "0.007173601147776184"
        ],
        [
         "blockers",
         "0.02810126582278481",
         "0.06493506493506493",
         "0.023448275862068966",
         "0.00392156862745098",
         "0.014347202295552367"
        ],
        [
         "use",
         "0.07073417721518988",
         "0.08225108225108226",
         "0.11517241379310345",
         "0.04019607843137255",
         "0.08895265423242468"
        ],
        [
         "other",
         "0.18364556962025316",
         "0.2857142857142857",
         "0.2558620689655172",
         "0.09019607843137255",
         "0.2467718794835007"
        ],
        [
         "both",
         "0.013063291139240506",
         "0.008658008658008658",
         "0.01793103448275862",
         "0.01764705882352941",
         "0.01291248206599713"
        ],
        [
         "tobacco",
         "5.0632911392405066e-05",
         "0.0",
         "0.0",
         "0.0",
         "0.0"
        ],
        [
         "Many",
         "0.0005569620253164557",
         "0.0",
         "0.0",
         "0.0",
         "0.0"
        ],
        [
         "i.e.",
         "0.003949367088607595",
         "0.0",
         "0.0",
         "0.018627450980392157",
         "0.007173601147776184"
        ],
        [
         "people",
         "5.0632911392405066e-05",
         "0.0",
         "0.0",
         "0.0",
         "0.0"
        ],
        [
         "(",
         "0.5394936708860759",
         "0.658008658008658",
         "0.3158620689655172",
         "0.44019607843137254",
         "0.4117647058823529"
        ],
        [
         ")",
         "0.537113924050633",
         "0.658008658008658",
         "0.3137931034482759",
         "0.44019607843137254",
         "0.40746054519368724"
        ],
        [
         "cigarettes",
         "5.0632911392405066e-05",
         "0.0",
         "0.0",
         "0.0",
         "0.0"
        ],
        [
         "products",
         "0.01969620253164557",
         "0.0",
         "0.012413793103448275",
         "0.008823529411764706",
         "0.020086083213773313"
        ],
        [
         "personality",
         "5.0632911392405066e-05",
         "0.0",
         "0.0",
         "0.0",
         "0.0"
        ],
        [
         "user",
         "5.0632911392405066e-05",
         "0.0",
         "0.0",
         "0.0",
         "0.0"
        ]
       ],
       "shape": {
        "columns": 5,
        "rows": 5714
       }
      },
      "text/html": [
       "<div>\n",
       "<style scoped>\n",
       "    .dataframe tbody tr th:only-of-type {\n",
       "        vertical-align: middle;\n",
       "    }\n",
       "\n",
       "    .dataframe tbody tr th {\n",
       "        vertical-align: top;\n",
       "    }\n",
       "\n",
       "    .dataframe thead th {\n",
       "        text-align: right;\n",
       "    }\n",
       "</style>\n",
       "<table border=\"1\" class=\"dataframe\">\n",
       "  <thead>\n",
       "    <tr style=\"text-align: right;\">\n",
       "      <th></th>\n",
       "      <th>null</th>\n",
       "      <th>int</th>\n",
       "      <th>effect</th>\n",
       "      <th>mechanism</th>\n",
       "      <th>advise</th>\n",
       "    </tr>\n",
       "  </thead>\n",
       "  <tbody>\n",
       "    <tr>\n",
       "      <th>problems</th>\n",
       "      <td>0.002278</td>\n",
       "      <td>0.012987</td>\n",
       "      <td>0.000690</td>\n",
       "      <td>0.000000</td>\n",
       "      <td>0.000000</td>\n",
       "    </tr>\n",
       "    <tr>\n",
       "      <th>of</th>\n",
       "      <td>0.647544</td>\n",
       "      <td>0.506494</td>\n",
       "      <td>0.749655</td>\n",
       "      <td>0.856863</td>\n",
       "      <td>0.659971</td>\n",
       "    </tr>\n",
       "    <tr>\n",
       "      <th>treatment</th>\n",
       "      <td>0.015342</td>\n",
       "      <td>0.000000</td>\n",
       "      <td>0.017931</td>\n",
       "      <td>0.015686</td>\n",
       "      <td>0.058824</td>\n",
       "    </tr>\n",
       "    <tr>\n",
       "      <th>typical</th>\n",
       "      <td>0.000101</td>\n",
       "      <td>0.004329</td>\n",
       "      <td>0.000000</td>\n",
       "      <td>0.000000</td>\n",
       "      <td>0.000000</td>\n",
       "    </tr>\n",
       "    <tr>\n",
       "      <th>.</th>\n",
       "      <td>0.919241</td>\n",
       "      <td>0.939394</td>\n",
       "      <td>0.971724</td>\n",
       "      <td>0.945098</td>\n",
       "      <td>0.948350</td>\n",
       "    </tr>\n",
       "    <tr>\n",
       "      <th>...</th>\n",
       "      <td>...</td>\n",
       "      <td>...</td>\n",
       "      <td>...</td>\n",
       "      <td>...</td>\n",
       "      <td>...</td>\n",
       "    </tr>\n",
       "    <tr>\n",
       "      <th>anhydrase</th>\n",
       "      <td>0.000000</td>\n",
       "      <td>0.000000</td>\n",
       "      <td>0.000000</td>\n",
       "      <td>0.000000</td>\n",
       "      <td>0.001435</td>\n",
       "    </tr>\n",
       "    <tr>\n",
       "      <th>tachypnea</th>\n",
       "      <td>0.000000</td>\n",
       "      <td>0.000000</td>\n",
       "      <td>0.000000</td>\n",
       "      <td>0.000000</td>\n",
       "      <td>0.001435</td>\n",
       "    </tr>\n",
       "    <tr>\n",
       "      <th>anorexia</th>\n",
       "      <td>0.000000</td>\n",
       "      <td>0.000000</td>\n",
       "      <td>0.000000</td>\n",
       "      <td>0.000000</td>\n",
       "      <td>0.001435</td>\n",
       "    </tr>\n",
       "    <tr>\n",
       "      <th>PCP</th>\n",
       "      <td>0.000000</td>\n",
       "      <td>0.000000</td>\n",
       "      <td>0.000000</td>\n",
       "      <td>0.000000</td>\n",
       "      <td>0.001435</td>\n",
       "    </tr>\n",
       "    <tr>\n",
       "      <th>T.A</th>\n",
       "      <td>0.000000</td>\n",
       "      <td>0.000000</td>\n",
       "      <td>0.000000</td>\n",
       "      <td>0.000000</td>\n",
       "      <td>0.001435</td>\n",
       "    </tr>\n",
       "  </tbody>\n",
       "</table>\n",
       "<p>5714 rows × 5 columns</p>\n",
       "</div>"
      ],
      "text/plain": [
       "               null       int    effect  mechanism    advise\n",
       "problems   0.002278  0.012987  0.000690   0.000000  0.000000\n",
       "of         0.647544  0.506494  0.749655   0.856863  0.659971\n",
       "treatment  0.015342  0.000000  0.017931   0.015686  0.058824\n",
       "typical    0.000101  0.004329  0.000000   0.000000  0.000000\n",
       ".          0.919241  0.939394  0.971724   0.945098  0.948350\n",
       "...             ...       ...       ...        ...       ...\n",
       "anhydrase  0.000000  0.000000  0.000000   0.000000  0.001435\n",
       "tachypnea  0.000000  0.000000  0.000000   0.000000  0.001435\n",
       "anorexia   0.000000  0.000000  0.000000   0.000000  0.001435\n",
       "PCP        0.000000  0.000000  0.000000   0.000000  0.001435\n",
       "T.A        0.000000  0.000000  0.000000   0.000000  0.001435\n",
       "\n",
       "[5714 rows x 5 columns]"
      ]
     },
     "execution_count": 147,
     "metadata": {},
     "output_type": "execute_result"
    }
   ],
   "source": [
    "# Divide by the amount of sentences in the corpus\n",
    "conditional_probabilities = counts.copy()\n",
    "for inter in counts.columns:\n",
    "    conditional_probabilities[inter] = counts[inter] / df[\"interaction\"].value_counts()[inter]\n",
    "\n",
    "# At this point, counts is a dataframe the index of which is all the words in the corpus,\n",
    "# and the columns are the interaction types. Each cell contains the marginal probability of the word\n",
    "# given the interaction type. (P(word=yes|interaction))\n",
    "conditional_probabilities"
   ]
  },
  {
   "cell_type": "markdown",
   "id": "84a4825b",
   "metadata": {},
   "source": [
    "At this point, the matrix holds the following conditional probabilities:\n",
    "$$\n",
    "P(W_{i}=1| I=\\mathcal{I}_j)\n",
    "$$\n",
    "Where $W_{i}$ is a random variable that indicates whether the $i$-th word is present in the document, having $W_{i}=1$ if it is present and $W_{i}=0$ otherwise; $I$ is the random variable that indicates the class of the document, and $\\mathcal{I}_j$ is the $j$-th class.\n",
    "\n",
    "Thus, we can use this matrix to calculate the probability of the co-occurrence of a word $i$ and a class $j$:\n",
    "$$\n",
    "P(W_{i}=1, I=\\mathcal{I}_j) = P(W_{i}=1| I=\\mathcal{I}_j) \\cdot P(I=\\mathcal{I}_j)\n",
    "$$\n",
    "And the same for the negative case:\n",
    "$$\n",
    "P(W_{i}=0, I=\\mathcal{I}_j) = P(W_{i}=0| I=\\mathcal{I}_j) \\cdot P(I=\\mathcal{I}_j) = (1 - P(W_{i}=1| I=\\mathcal{I}_j)) \\cdot P(I=\\mathcal{I}_j)\n",
    "$$"
   ]
  },
  {
   "cell_type": "code",
   "execution_count": 148,
   "id": "66cc72f9",
   "metadata": {},
   "outputs": [
    {
     "data": {
      "text/plain": [
       "interaction\n",
       "null         0.853205\n",
       "effect       0.062640\n",
       "mechanism    0.044064\n",
       "advise       0.030111\n",
       "int          0.009979\n",
       "Name: count, dtype: float64"
      ]
     },
     "execution_count": 148,
     "metadata": {},
     "output_type": "execute_result"
    }
   ],
   "source": [
    "prior_probabilities = df[\"interaction\"].value_counts() / len(df)\n",
    "prior_probabilities"
   ]
  },
  {
   "cell_type": "code",
   "execution_count": 149,
   "id": "9a6a6481",
   "metadata": {},
   "outputs": [
    {
     "data": {
      "application/vnd.microsoft.datawrangler.viewer.v0+json": {
       "columns": [
        {
         "name": "index",
         "rawType": "object",
         "type": "string"
        },
        {
         "name": "null",
         "rawType": "float64",
         "type": "float"
        },
        {
         "name": "int",
         "rawType": "float64",
         "type": "float"
        },
        {
         "name": "effect",
         "rawType": "float64",
         "type": "float"
        },
        {
         "name": "mechanism",
         "rawType": "float64",
         "type": "float"
        },
        {
         "name": "advise",
         "rawType": "float64",
         "type": "float"
        }
       ],
       "conversionMethod": "pd.DataFrame",
       "ref": "5e3b7465-1af2-4c86-a69b-23af91004372",
       "rows": [
        [
         "problems",
         "0.0019440124416796269",
         "0.00012960082944530845",
         "4.320027648176948e-05",
         "0.0",
         "0.0"
        ],
        [
         "of",
         "0.5524883359253498",
         "0.005054432348367029",
         "0.04695870053568343",
         "0.037757041645066526",
         "0.01987212718161396"
        ],
        [
         "treatment",
         "0.013089683773976154",
         "0.0",
         "0.0011232071885260064",
         "0.0006912044237083118",
         "0.0017712113357525488"
        ],
        [
         "typical",
         "8.640055296353897e-05",
         "4.320027648176948e-05",
         "0.0",
         "0.0",
         "0.0"
        ],
        [
         ".",
         "0.784301019526525",
         "0.009374459996543977",
         "0.0608691895628132",
         "0.041645066528425784",
         "0.02855538275444963"
        ],
        [
         "illustrated",
         "4.3200276481769485e-05",
         "0.0",
         "0.0",
         "0.0",
         "0.0"
        ],
        [
         "The",
         "0.08277172973907033",
         "0.0002592016588906169",
         "0.010584067738033524",
         "0.003974425436322792",
         "0.001166407465007776"
        ],
        [
         "by",
         "0.10411266632106445",
         "0.0",
         "0.010540867461551754",
         "0.009849663037843443",
         "0.003585622947986867"
        ],
        [
         "psychotic",
         "0.005529635389666494",
         "0.00034560221185415583",
         "8.640055296353896e-05",
         "0.0",
         "0.0"
        ],
        [
         "incisive",
         "4.3200276481769485e-05",
         "0.0",
         "0.0",
         "0.0",
         "0.0"
        ],
        [
         "are",
         "0.14441852427855537",
         "0.0002592016588906169",
         "0.005572835666148263",
         "0.00751684810782789",
         "0.005659236219111802"
        ],
        [
         "longterm",
         "4.3200276481769485e-05",
         "0.0",
         "0.0",
         "0.0",
         "0.0"
        ],
        [
         "encountered",
         "4.3200276481769485e-05",
         "0.0",
         "0.0",
         "0.0",
         "0.0"
        ],
        [
         "six",
         "0.0004752030412994643",
         "0.0",
         "0.0",
         "8.640055296353897e-05",
         "0.0"
        ],
        [
         "reports",
         "0.011102471055814757",
         "0.00043200276481769476",
         "0.0022032141005702438",
         "8.640055296353897e-05",
         "0.00012960082944530845"
        ],
        [
         "case",
         "0.0006480041472265422",
         "0.0",
         "0.0002160013824088474",
         "8.640055296353897e-05",
         "4.3200276481769485e-05"
        ],
        [
         "patients",
         "0.07681009158458614",
         "0.00012960082944530845",
         "0.009158458614135131",
         "0.00250561603594263",
         "0.006264040089856575"
        ],
        [
         "with",
         "0.36193191636426475",
         "0.0066528425781925",
         "0.024710558147572143",
         "0.015336098151028167",
         "0.020995334370139968"
        ],
        [
         ";",
         "0.10916709866943149",
         "0.0",
         "0.0043632279246587176",
         "0.0011232071885260066",
         "0.0009504060825989286"
        ],
        [
         "therapeutic",
         "0.01589770174529117",
         "0.0",
         "0.0005184033177812338",
         "0.0009504060825989287",
         "0.001339208570934854"
        ],
        [
         "]",
         "0.01006566442025229",
         "0.0",
         "0.0007344047001900812",
         "0.00017280110592707794",
         "0.001166407465007776"
        ],
        [
         "monitoring",
         "0.0031104199066874024",
         "0.0",
         "4.320027648176948e-05",
         "4.3200276481769485e-05",
         "0.0006048038707447727"
        ],
        [
         "[",
         "0.01006566442025229",
         "0.0",
         "0.0007344047001900812",
         "0.00017280110592707794",
         "0.001166407465007776"
        ],
        [
         "the",
         "0.4757214446172456",
         "0.006480041472265422",
         "0.03382581648522551",
         "0.027172973907033007",
         "0.01252808017971315"
        ],
        [
         "during",
         "0.018619319163642647",
         "0.0009072058061171591",
         "0.001166407465007776",
         "0.0006048038707447727",
         "0.0010368066355624676"
        ],
        [
         "Quantitative",
         "4.3200276481769485e-05",
         "0.0",
         "0.0",
         "0.0",
         "0.0"
        ],
        [
         "to",
         "0.23885432866770345",
         "0.001080006912044237",
         "0.014601693450838085",
         "0.016286504233627097",
         "0.008683255572835667"
        ],
        [
         "approach",
         "0.00012960082944530845",
         "0.0",
         "4.320027648176948e-05",
         "0.0",
         "0.0"
        ],
        [
         "oral",
         "0.2014428892344911",
         "0.0006912044237083117",
         "0.007128045619491965",
         "0.005875237601520649",
         "0.0011232071885260064"
        ],
        [
         "and",
         "0.5464402972179022",
         "0.008337653360981509",
         "0.03741143943321237",
         "0.027388975289441852",
         "0.016329704510108865"
        ],
        [
         ",",
         "0.7415327458095732",
         "0.008640055296353895",
         "0.044453084499740794",
         "0.03196820459650942",
         "0.023155348194228445"
        ],
        [
         "decrease",
         "0.028728183860376708",
         "0.0009072058061171591",
         "0.0018576118887160878",
         "0.004536029030585796",
         "0.00017280110592707794"
        ],
        [
         "certain",
         "0.03844824606877484",
         "0.0015984102298254707",
         "0.0042336270952134086",
         "0.0005616035942630033",
         "0.0018144116122343183"
        ],
        [
         "effectiveness",
         "0.0092016588906169",
         "0.00030240193537238636",
         "0.0007776049766718506",
         "0.0",
         "0.0"
        ],
        [
         "may",
         "0.2841282184205979",
         "0.006955244513564887",
         "0.030456194919647482",
         "0.012700881285640227",
         "0.004060825989286331"
        ],
        [
         "beta",
         "0.02142733713495766",
         "0.0006480041472265421",
         "0.0016416105063072404",
         "0.0",
         "0.0002160013824088474"
        ],
        [
         "blockers",
         "0.023976153447382062",
         "0.0006480041472265421",
         "0.0014688094003801624",
         "0.00017280110592707794",
         "0.0004320027648176948"
        ],
        [
         "use",
         "0.06035078624503197",
         "0.0008208052531536201",
         "0.007214446172455503",
         "0.001771211335752549",
         "0.002678417141869708"
        ],
        [
         "other",
         "0.1566874027993779",
         "0.0028512182477967857",
         "0.016027302574736477",
         "0.003974425436322792",
         "0.007430447554864351"
        ],
        [
         "both",
         "0.011145671332296526",
         "8.640055296353896e-05",
         "0.0011232071885260064",
         "0.0007776049766718507",
         "0.00038880248833592535"
        ],
        [
         "tobacco",
         "4.3200276481769485e-05",
         "0.0",
         "0.0",
         "0.0",
         "0.0"
        ],
        [
         "Many",
         "0.0004752030412994643",
         "0.0",
         "0.0",
         "0.0",
         "0.0"
        ],
        [
         "i.e.",
         "0.0033696215655780195",
         "0.0",
         "0.0",
         "0.0008208052531536202",
         "0.0002160013824088474"
        ],
        [
         "people",
         "4.3200276481769485e-05",
         "0.0",
         "0.0",
         "0.0",
         "0.0"
        ],
        [
         "(",
         "0.4602989459132538",
         "0.006566442025228961",
         "0.01978572662865042",
         "0.0193969241403145",
         "0.012398479350267841"
        ],
        [
         ")",
         "0.4582685329186107",
         "0.006566442025228961",
         "0.019656125799205115",
         "0.0193969241403145",
         "0.012268878520822533"
        ],
        [
         "cigarettes",
         "4.3200276481769485e-05",
         "0.0",
         "0.0",
         "0.0",
         "0.0"
        ],
        [
         "products",
         "0.01680490755140833",
         "0.0",
         "0.0007776049766718506",
         "0.00038880248833592535",
         "0.0006048038707447727"
        ],
        [
         "personality",
         "4.3200276481769485e-05",
         "0.0",
         "0.0",
         "0.0",
         "0.0"
        ],
        [
         "user",
         "4.3200276481769485e-05",
         "0.0",
         "0.0",
         "0.0",
         "0.0"
        ]
       ],
       "shape": {
        "columns": 5,
        "rows": 5714
       }
      },
      "text/html": [
       "<div>\n",
       "<style scoped>\n",
       "    .dataframe tbody tr th:only-of-type {\n",
       "        vertical-align: middle;\n",
       "    }\n",
       "\n",
       "    .dataframe tbody tr th {\n",
       "        vertical-align: top;\n",
       "    }\n",
       "\n",
       "    .dataframe thead th {\n",
       "        text-align: right;\n",
       "    }\n",
       "</style>\n",
       "<table border=\"1\" class=\"dataframe\">\n",
       "  <thead>\n",
       "    <tr style=\"text-align: right;\">\n",
       "      <th></th>\n",
       "      <th>null</th>\n",
       "      <th>int</th>\n",
       "      <th>effect</th>\n",
       "      <th>mechanism</th>\n",
       "      <th>advise</th>\n",
       "    </tr>\n",
       "  </thead>\n",
       "  <tbody>\n",
       "    <tr>\n",
       "      <th>problems</th>\n",
       "      <td>0.001944</td>\n",
       "      <td>0.000130</td>\n",
       "      <td>0.000043</td>\n",
       "      <td>0.000000</td>\n",
       "      <td>0.000000</td>\n",
       "    </tr>\n",
       "    <tr>\n",
       "      <th>of</th>\n",
       "      <td>0.552488</td>\n",
       "      <td>0.005054</td>\n",
       "      <td>0.046959</td>\n",
       "      <td>0.037757</td>\n",
       "      <td>0.019872</td>\n",
       "    </tr>\n",
       "    <tr>\n",
       "      <th>treatment</th>\n",
       "      <td>0.013090</td>\n",
       "      <td>0.000000</td>\n",
       "      <td>0.001123</td>\n",
       "      <td>0.000691</td>\n",
       "      <td>0.001771</td>\n",
       "    </tr>\n",
       "    <tr>\n",
       "      <th>typical</th>\n",
       "      <td>0.000086</td>\n",
       "      <td>0.000043</td>\n",
       "      <td>0.000000</td>\n",
       "      <td>0.000000</td>\n",
       "      <td>0.000000</td>\n",
       "    </tr>\n",
       "    <tr>\n",
       "      <th>.</th>\n",
       "      <td>0.784301</td>\n",
       "      <td>0.009374</td>\n",
       "      <td>0.060869</td>\n",
       "      <td>0.041645</td>\n",
       "      <td>0.028555</td>\n",
       "    </tr>\n",
       "    <tr>\n",
       "      <th>...</th>\n",
       "      <td>...</td>\n",
       "      <td>...</td>\n",
       "      <td>...</td>\n",
       "      <td>...</td>\n",
       "      <td>...</td>\n",
       "    </tr>\n",
       "    <tr>\n",
       "      <th>anhydrase</th>\n",
       "      <td>0.000000</td>\n",
       "      <td>0.000000</td>\n",
       "      <td>0.000000</td>\n",
       "      <td>0.000000</td>\n",
       "      <td>0.000043</td>\n",
       "    </tr>\n",
       "    <tr>\n",
       "      <th>tachypnea</th>\n",
       "      <td>0.000000</td>\n",
       "      <td>0.000000</td>\n",
       "      <td>0.000000</td>\n",
       "      <td>0.000000</td>\n",
       "      <td>0.000043</td>\n",
       "    </tr>\n",
       "    <tr>\n",
       "      <th>anorexia</th>\n",
       "      <td>0.000000</td>\n",
       "      <td>0.000000</td>\n",
       "      <td>0.000000</td>\n",
       "      <td>0.000000</td>\n",
       "      <td>0.000043</td>\n",
       "    </tr>\n",
       "    <tr>\n",
       "      <th>PCP</th>\n",
       "      <td>0.000000</td>\n",
       "      <td>0.000000</td>\n",
       "      <td>0.000000</td>\n",
       "      <td>0.000000</td>\n",
       "      <td>0.000043</td>\n",
       "    </tr>\n",
       "    <tr>\n",
       "      <th>T.A</th>\n",
       "      <td>0.000000</td>\n",
       "      <td>0.000000</td>\n",
       "      <td>0.000000</td>\n",
       "      <td>0.000000</td>\n",
       "      <td>0.000043</td>\n",
       "    </tr>\n",
       "  </tbody>\n",
       "</table>\n",
       "<p>5714 rows × 5 columns</p>\n",
       "</div>"
      ],
      "text/plain": [
       "               null       int    effect  mechanism    advise\n",
       "problems   0.001944  0.000130  0.000043   0.000000  0.000000\n",
       "of         0.552488  0.005054  0.046959   0.037757  0.019872\n",
       "treatment  0.013090  0.000000  0.001123   0.000691  0.001771\n",
       "typical    0.000086  0.000043  0.000000   0.000000  0.000000\n",
       ".          0.784301  0.009374  0.060869   0.041645  0.028555\n",
       "...             ...       ...       ...        ...       ...\n",
       "anhydrase  0.000000  0.000000  0.000000   0.000000  0.000043\n",
       "tachypnea  0.000000  0.000000  0.000000   0.000000  0.000043\n",
       "anorexia   0.000000  0.000000  0.000000   0.000000  0.000043\n",
       "PCP        0.000000  0.000000  0.000000   0.000000  0.000043\n",
       "T.A        0.000000  0.000000  0.000000   0.000000  0.000043\n",
       "\n",
       "[5714 rows x 5 columns]"
      ]
     },
     "execution_count": 149,
     "metadata": {},
     "output_type": "execute_result"
    }
   ],
   "source": [
    "# Now, to get P(w=yes, interaction), we need to multiply P(word=yes|interaction) by P(interaction)\n",
    "probabilities_yes = conditional_probabilities.copy()\n",
    "probabilities_no = conditional_probabilities.copy()\n",
    "for inter in conditional_probabilities.columns:\n",
    "    probabilities_yes[inter] = conditional_probabilities[inter] * prior_probabilities[inter]\n",
    "    probabilities_no[inter] = (1 - conditional_probabilities[inter]) * prior_probabilities[inter]\n",
    "probabilities_yes"
   ]
  },
  {
   "cell_type": "markdown",
   "id": "c8ef53bb",
   "metadata": {},
   "source": [
    "We're going to select as features the words that have the highest expected information gain with respect to the class labels.\n",
    "\n",
    "To understand this, let's first imagine two categorical variables, $Y$ and $X$, with a joint probability distribution function $P(X, Y)$. \n",
    "\n",
    "In this scenario, the entropy of $Y$ is defined as the expected information of its values, and can be calculated as:\n",
    "$$\n",
    "H(Y) = -\\sum_{i=1}^{k} P(y_i) \\log_2 P(y_i)\n",
    "$$\n",
    "Where $k$ is the number of classes, and $P(y_i)$ is the probability of class $y_i$.\n",
    "\n",
    "Now, let's say we perform a measurement of $X$ and obtain a value $x_j$. We can calculate the information gained of $Y$ given this result by computing the reduction of the entropy of $Y$:\n",
    "$$\n",
    "IG(Y|X=x_j) = H(Y) - H(Y|X=x_j)\n",
    "$$\n",
    "Where $H(Y|X=x_j)$ is the conditional entropy of $Y$ given $X=x_j$, and can be calculated as:\n",
    "$$\n",
    "H(Y|X=x_j) = -\\sum_{i=1}^{k} P(y_i|x_j) \\log_2 P(y_i|x_j)\n",
    "$$\n",
    "Where $P(y_i|x_j)$ is the conditional probability of class $y_i$ given the value $x_j$, which can be expressed in terms of the joint probability:\n",
    "$$\n",
    "P(y_i|x_j) = \\frac{P(x_j, y_i)}{P(x_j)}\n",
    "$$\n",
    "Thus, we can express the information gain of the result $x_j$ as:\n",
    "$$\n",
    "IG(Y|X=x_j) = H(Y) + \\sum_{i=1}^{k} \\frac{P(y_i, x_j)}{P(x_j)} \\log_2 \\left( \\frac{P(y_i, x_j)}{P(x_j)} \\right)\n",
    "$$\n",
    "\n",
    "Finally, let's say that we know that $X$ has $m$ possible values. Then, we can compute the expected information gain of $Y$ given $X$ as:\n",
    "$$\n",
    "E_X[IG(Y|X=x)] = IG(Y|X) = \\sum_{j=1}^{m} P(x_j) IG(Y|X=x_j)\n",
    "$$\n",
    "Where $P(x_j)$ is the marginal probability of $X=x_j$.\n",
    "\n",
    "Expanding this expression, we can see that the expected information gain of $Y$ given $X$ is:\n",
    "$$\n",
    "IG(Y|X) = H(Y) + \\sum_{j=1}^{m} \\sum_{i=1}^{k} P(y_i, x_j) \\log_2 \\left( \\frac{P(y_i, x_j)}{P(x_j)} \\right)\n",
    "$$\n",
    "\n"
   ]
  },
  {
   "cell_type": "markdown",
   "id": "1f84d0f3",
   "metadata": {},
   "source": [
    "\n",
    "Applying this to our case, we are trying to maximize the expected information gain of the class labels $I$ given the set of random variables $W_i$, where $m_i$ (the number of options per each of them) is equal to 2 (the word is present or not). Thus, we can express the expected information gain of $I$ given $W_i$ as:\n",
    "$$\n",
    "IG(I|W_i) = H(I) + \\sum_{j=1}^{k} \\left( P(I=\\mathcal{I}_j, W_i=1) \\log_2 \\left( \\frac{P(I=\\mathcal{I}_j, W_i=1)}{P(W_i=1)} \\right) + P(I=\\mathcal{I}_j, W_i=0) \\log_2 \\left( \\frac{P(I=\\mathcal{I}_j, W_i=0)}{P(W_i=0)} \\right)\\right)\n",
    "$$\n",
    "Where:\n",
    "- $I$ is the random variable that indicates the class of interaction of the document and $\\mathcal{I}_j$ is the $j$-th class.\n",
    "- $W_i$ is the random variable that indicates whether the $i$-th word is present in the document, having $W_i=1$ if it is present and $W_i=0$ otherwise."
   ]
  },
  {
   "cell_type": "code",
   "execution_count": 150,
   "id": "31520e2e",
   "metadata": {},
   "outputs": [
    {
     "name": "stdout",
     "output_type": "stream",
     "text": [
      "Entropy of the interaction classes: 0.8627\n"
     ]
    }
   ],
   "source": [
    "i_entropy = sum(-p * np.log2(p) for p in prior_probabilities if p > 0)  # H(I)\n",
    "print(f\"Entropy of the interaction classes: {i_entropy:.4f}\")"
   ]
  },
  {
   "cell_type": "code",
   "execution_count": 153,
   "id": "3bb994dd",
   "metadata": {},
   "outputs": [
    {
     "data": {
      "application/vnd.microsoft.datawrangler.viewer.v0+json": {
       "columns": [
        {
         "name": "index",
         "rawType": "object",
         "type": "string"
        },
        {
         "name": "expected_information_gain",
         "rawType": "float64",
         "type": "float"
        }
       ],
       "conversionMethod": "pd.DataFrame",
       "ref": "f2d18923-9580-4380-9a1e-918c26b2bff8",
       "rows": [
        [
         "should",
         "0.05083059680530222"
        ],
        [
         "be",
         "0.03862819911547477"
        ],
        [
         "following",
         "0.021062990848687124"
        ],
        [
         "plasma",
         "0.02046320455420436"
        ],
        [
         "interact",
         "0.02025292204170215"
        ],
        [
         ":",
         "0.019742020283875616"
        ],
        [
         "protease",
         "0.016667945633160097"
        ],
        [
         "may",
         "0.013164932437837118"
        ],
        [
         "effects",
         "0.013131058102743398"
        ],
        [
         "oral",
         "0.012999876572558522"
        ],
        [
         "levels",
         "0.01250580044234606"
        ],
        [
         "%",
         "0.011921951381587914"
        ],
        [
         ",",
         "0.011828395529154712"
        ],
        [
         "HIV",
         "0.011642182605834828"
        ],
        [
         "thyroid",
         "0.011619545605116244"
        ],
        [
         "medications",
         "0.011407994434273983"
        ],
        [
         "Johns",
         "0.011233472525997712"
        ],
        [
         "classified",
         "0.011174114740980734"
        ],
        [
         "Contin",
         "0.011151911705344242"
        ],
        [
         "include",
         "0.011134588992619099"
        ],
        [
         "(",
         "0.011003961696251063"
        ],
        [
         ")",
         "0.010996720674924743"
        ],
        [
         "inhibitors",
         "0.01091265163264632"
        ],
        [
         "chloral",
         "0.010890624020208572"
        ],
        [
         "MS",
         "0.010873552921702112"
        ],
        [
         "steroids",
         "0.01071940908800495"
        ],
        [
         "unreliable",
         "0.010696683788576689"
        ],
        [
         "man",
         "0.010587499534161604"
        ],
        [
         "*",
         "0.010549836736960971"
        ],
        [
         "St.",
         "0.01041782078894693"
        ],
        [
         "AUC",
         "0.01037373912308015"
        ],
        [
         "wort",
         "0.010338893511819602"
        ],
        [
         "hydrate",
         "0.010151971785199332"
        ],
        [
         "ie",
         "0.009909939345244312"
        ],
        [
         "concentrations",
         "0.00977413421786233"
        ],
        [
         "warfarin",
         "0.009563200215521483"
        ],
        [
         "is",
         "0.009436323658445711"
        ],
        [
         "dietary",
         "0.009387740229031771"
        ],
        [
         "hot",
         "0.009385756054520189"
        ],
        [
         "vaccine",
         "0.00937424379544649"
        ],
        [
         "influenza",
         "0.00937424379544649"
        ],
        [
         "elements",
         "0.009366101517992553"
        ],
        [
         "anabolic",
         "0.009366101517992553"
        ],
        [
         "inhalation",
         "0.009366101517992553"
        ],
        [
         "triclofos",
         "0.009366101517992553"
        ],
        [
         "deficiencies",
         "0.009366101517992553"
        ],
        [
         "oxolinic",
         "0.009366101517992553"
        ],
        [
         "narcotics",
         "0.009366101517992553"
        ],
        [
         "overdosage",
         "0.009352146611632972"
        ],
        [
         "weather",
         "0.009347210311532184"
        ]
       ],
       "shape": {
        "columns": 1,
        "rows": 5714
       }
      },
      "text/html": [
       "<div>\n",
       "<style scoped>\n",
       "    .dataframe tbody tr th:only-of-type {\n",
       "        vertical-align: middle;\n",
       "    }\n",
       "\n",
       "    .dataframe tbody tr th {\n",
       "        vertical-align: top;\n",
       "    }\n",
       "\n",
       "    .dataframe thead th {\n",
       "        text-align: right;\n",
       "    }\n",
       "</style>\n",
       "<table border=\"1\" class=\"dataframe\">\n",
       "  <thead>\n",
       "    <tr style=\"text-align: right;\">\n",
       "      <th></th>\n",
       "      <th>expected_information_gain</th>\n",
       "    </tr>\n",
       "  </thead>\n",
       "  <tbody>\n",
       "    <tr>\n",
       "      <th>should</th>\n",
       "      <td>0.050831</td>\n",
       "    </tr>\n",
       "    <tr>\n",
       "      <th>be</th>\n",
       "      <td>0.038628</td>\n",
       "    </tr>\n",
       "    <tr>\n",
       "      <th>following</th>\n",
       "      <td>0.021063</td>\n",
       "    </tr>\n",
       "    <tr>\n",
       "      <th>plasma</th>\n",
       "      <td>0.020463</td>\n",
       "    </tr>\n",
       "    <tr>\n",
       "      <th>interact</th>\n",
       "      <td>0.020253</td>\n",
       "    </tr>\n",
       "    <tr>\n",
       "      <th>...</th>\n",
       "      <td>...</td>\n",
       "    </tr>\n",
       "    <tr>\n",
       "      <th>drug-metab-olizing</th>\n",
       "      <td>0.000010</td>\n",
       "    </tr>\n",
       "    <tr>\n",
       "      <th>generated</th>\n",
       "      <td>0.000010</td>\n",
       "    </tr>\n",
       "    <tr>\n",
       "      <th>conclusions</th>\n",
       "      <td>0.000010</td>\n",
       "    </tr>\n",
       "    <tr>\n",
       "      <th>sample</th>\n",
       "      <td>0.000010</td>\n",
       "    </tr>\n",
       "    <tr>\n",
       "      <th>dodecyl</th>\n",
       "      <td>0.000010</td>\n",
       "    </tr>\n",
       "  </tbody>\n",
       "</table>\n",
       "<p>5714 rows × 1 columns</p>\n",
       "</div>"
      ],
      "text/plain": [
       "                    expected_information_gain\n",
       "should                               0.050831\n",
       "be                                   0.038628\n",
       "following                            0.021063\n",
       "plasma                               0.020463\n",
       "interact                             0.020253\n",
       "...                                       ...\n",
       "drug-metab-olizing                   0.000010\n",
       "generated                            0.000010\n",
       "conclusions                          0.000010\n",
       "sample                               0.000010\n",
       "dodecyl                              0.000010\n",
       "\n",
       "[5714 rows x 1 columns]"
      ]
     },
     "execution_count": 153,
     "metadata": {},
     "output_type": "execute_result"
    }
   ],
   "source": [
    "word_expected_information_gain = {}\n",
    "for word in probabilities_yes.index:\n",
    "    s = 0\n",
    "    for inter in probabilities_yes.columns:\n",
    "        joint_prob_yes = probabilities_yes.loc[word, inter]\n",
    "        joint_prob_no = probabilities_no.loc[word, inter]\n",
    "        if joint_prob_yes > 0:\n",
    "            s += joint_prob_yes * np.log2(joint_prob_yes / word_probs.loc[word, \"prob_yes\"])\n",
    "        if joint_prob_no > 0:\n",
    "            s += joint_prob_no * np.log2(joint_prob_no / word_probs.loc[word, \"prob_no\"])\n",
    "    word_expected_information_gain[word] = i_entropy + s\n",
    "\n",
    "word_expected_information_gain = pd.DataFrame.from_dict(\n",
    "    word_expected_information_gain, orient=\"index\", columns=[\"expected_information_gain\"]\n",
    ")\n",
    "word_expected_information_gain.sort_values(by=\"expected_information_gain\", ascending=False, inplace=True)\n",
    "word_expected_information_gain"
   ]
  },
  {
   "cell_type": "code",
   "execution_count": 154,
   "id": "fab22c63",
   "metadata": {},
   "outputs": [],
   "source": [
    "word_expected_information_gain.to_csv(\"../data/word_expected_information_gain.csv\")"
   ]
  }
 ],
 "metadata": {
  "kernelspec": {
   "display_name": ".venv",
   "language": "python",
   "name": "python3"
  },
  "language_info": {
   "codemirror_mode": {
    "name": "ipython",
    "version": 3
   },
   "file_extension": ".py",
   "mimetype": "text/x-python",
   "name": "python",
   "nbconvert_exporter": "python",
   "pygments_lexer": "ipython3",
   "version": "3.12.3"
  }
 },
 "nbformat": 4,
 "nbformat_minor": 5
}
