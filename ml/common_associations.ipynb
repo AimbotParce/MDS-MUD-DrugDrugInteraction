{
 "cells": [
  {
   "cell_type": "code",
   "execution_count": null,
   "id": "2aec1cd0",
   "metadata": {},
   "outputs": [],
   "source": [
    "import os\n",
    "from xml.dom.minidom import parse\n",
    "import nltk\n",
    "import pandas as pd\n",
    "import numpy as np\n",
    "import gc\n",
    "from collections import defaultdict"
   ]
  },
  {
   "cell_type": "code",
   "execution_count": 157,
   "id": "59223832",
   "metadata": {},
   "outputs": [
    {
     "data": {
      "text/plain": [
       "60851"
      ]
     },
     "execution_count": 157,
     "metadata": {},
     "output_type": "execute_result"
    }
   ],
   "source": [
    "datadir = \"../data/train\"\n",
    "rows = []\n",
    "\n",
    "# process each file in directory\n",
    "for f in os.listdir(datadir):\n",
    "\n",
    "    # parse XML file, obtaining a DOM tree\n",
    "    xml_tree = parse(datadir + \"/\" + f)\n",
    "\n",
    "    # process each sentence in the file\n",
    "    xml_sentences = xml_tree.getElementsByTagName(\"sentence\")\n",
    "    for xml_sentence in xml_sentences:\n",
    "        sentence_id = xml_sentence.attributes[\"id\"].value  # get sentence id\n",
    "        sentence_text = xml_sentence.attributes[\"text\"].value  # get sentence text\n",
    "\n",
    "        # there are no entity pairs, skip sentence\n",
    "        if len(xml_sentence.getElementsByTagName(\"entity\")) <= 1:\n",
    "            continue\n",
    "\n",
    "        # get entities in the sentence\n",
    "        xml_entities = xml_sentence.getElementsByTagName(\"entity\")\n",
    "        entities: set[str] = set()\n",
    "        for xml_entity in xml_entities:\n",
    "            entities.add(xml_entity.attributes[\"text\"].value.lower())  # get entity text\n",
    "\n",
    "        # for each pair in the sentence, decide whether it is DDI and its type\n",
    "        xml_pairs = xml_sentence.getElementsByTagName(\"pair\")\n",
    "        for xml_pair in xml_pairs:\n",
    "            pair_id = xml_pair.attributes[\"id\"].value  # get pair id\n",
    "            # ground truth\n",
    "            is_interaction = xml_pair.attributes[\"ddi\"].value\n",
    "            if is_interaction == \"true\":\n",
    "                interaction_type = xml_pair.attributes[\"type\"].value\n",
    "            else:\n",
    "                interaction_type = \"null\"\n",
    "\n",
    "            # get words in the sentence, excluding entities\n",
    "            words = set(w.lower() for w in nltk.word_tokenize(sentence_text)) - entities\n",
    "            rows.append({\"pair_id\": pair_id, \"interaction\": interaction_type, \"words\": words})\n",
    "\n",
    "# create pandas dataframe\n",
    "df = pd.DataFrame(rows)\n",
    "df[\"interaction\"] = df[\"interaction\"].astype(\"category\")\n",
    "df.head()\n",
    "del rows\n",
    "gc.collect()"
   ]
  },
  {
   "cell_type": "code",
   "execution_count": 158,
   "id": "46b3fa16",
   "metadata": {},
   "outputs": [
    {
     "data": {
      "application/vnd.microsoft.datawrangler.viewer.v0+json": {
       "columns": [
        {
         "name": "index",
         "rawType": "object",
         "type": "string"
        },
        {
         "name": "null",
         "rawType": "float64",
         "type": "float"
        },
        {
         "name": "int",
         "rawType": "float64",
         "type": "float"
        },
        {
         "name": "effect",
         "rawType": "float64",
         "type": "float"
        },
        {
         "name": "mechanism",
         "rawType": "float64",
         "type": "float"
        },
        {
         "name": "advise",
         "rawType": "float64",
         "type": "float"
        }
       ],
       "conversionMethod": "pd.DataFrame",
       "ref": "f0421d76-3027-4d4f-9728-a8d190a4922d",
       "rows": [
        [
         "problems",
         "45.0",
         "3.0",
         "1.0",
         "0.0",
         "0.0"
        ],
        [
         "of",
         "12792.0",
         "117.0",
         "1087.0",
         "874.0",
         "460.0"
        ],
        [
         "treatment",
         "311.0",
         "1.0",
         "26.0",
         "17.0",
         "41.0"
        ],
        [
         "typical",
         "2.0",
         "1.0",
         "0.0",
         "0.0",
         "0.0"
        ],
        [
         ".",
         "18155.0",
         "217.0",
         "1409.0",
         "964.0",
         "661.0"
        ],
        [
         "illustrated",
         "1.0",
         "0.0",
         "0.0",
         "0.0",
         "0.0"
        ],
        [
         "by",
         "2414.0",
         "0.0",
         "244.0",
         "229.0",
         "83.0"
        ],
        [
         "psychotic",
         "128.0",
         "8.0",
         "2.0",
         "0.0",
         "0.0"
        ],
        [
         "incisive",
         "1.0",
         "0.0",
         "0.0",
         "0.0",
         "0.0"
        ],
        [
         "are",
         "3345.0",
         "6.0",
         "130.0",
         "174.0",
         "132.0"
        ],
        [
         "longterm",
         "1.0",
         "0.0",
         "0.0",
         "0.0",
         "0.0"
        ],
        [
         "encountered",
         "1.0",
         "0.0",
         "0.0",
         "0.0",
         "0.0"
        ],
        [
         "six",
         "11.0",
         "0.0",
         "0.0",
         "2.0",
         "0.0"
        ],
        [
         "reports",
         "269.0",
         "10.0",
         "55.0",
         "4.0",
         "3.0"
        ],
        [
         "case",
         "15.0",
         "0.0",
         "5.0",
         "2.0",
         "1.0"
        ],
        [
         "patients",
         "1915.0",
         "3.0",
         "243.0",
         "59.0",
         "168.0"
        ],
        [
         "with",
         "8389.0",
         "154.0",
         "575.0",
         "355.0",
         "487.0"
        ],
        [
         ";",
         "2527.0",
         "0.0",
         "101.0",
         "26.0",
         "22.0"
        ],
        [
         "therapeutic",
         "405.0",
         "0.0",
         "13.0",
         "22.0",
         "31.0"
        ],
        [
         "]",
         "233.0",
         "0.0",
         "17.0",
         "4.0",
         "27.0"
        ],
        [
         "monitoring",
         "73.0",
         "0.0",
         "1.0",
         "1.0",
         "14.0"
        ],
        [
         "[",
         "233.0",
         "0.0",
         "17.0",
         "4.0",
         "27.0"
        ],
        [
         "the",
         "11970.0",
         "152.0",
         "923.0",
         "681.0",
         "309.0"
        ],
        [
         "during",
         "435.0",
         "21.0",
         "27.0",
         "16.0",
         "25.0"
        ],
        [
         "to",
         "5565.0",
         "25.0",
         "338.0",
         "377.0",
         "201.0"
        ],
        [
         "approach",
         "3.0",
         "0.0",
         "1.0",
         "0.0",
         "0.0"
        ],
        [
         "quantitative",
         "1.0",
         "0.0",
         "0.0",
         "0.0",
         "0.0"
        ],
        [
         "oral",
         "4753.0",
         "24.0",
         "174.0",
         "141.0",
         "28.0"
        ],
        [
         "and",
         "12664.0",
         "193.0",
         "866.0",
         "634.0",
         "378.0"
        ],
        [
         ",",
         "17165.0",
         "200.0",
         "1029.0",
         "740.0",
         "536.0"
        ],
        [
         "decrease",
         "665.0",
         "21.0",
         "43.0",
         "105.0",
         "4.0"
        ],
        [
         "certain",
         "938.0",
         "39.0",
         "116.0",
         "13.0",
         "42.0"
        ],
        [
         "effectiveness",
         "213.0",
         "7.0",
         "18.0",
         "0.0",
         "0.0"
        ],
        [
         "may",
         "6620.0",
         "161.0",
         "707.0",
         "295.0",
         "94.0"
        ],
        [
         "beta",
         "510.0",
         "15.0",
         "39.0",
         "0.0",
         "5.0"
        ],
        [
         "blockers",
         "572.0",
         "15.0",
         "35.0",
         "4.0",
         "10.0"
        ],
        [
         "use",
         "1498.0",
         "20.0",
         "188.0",
         "42.0",
         "62.0"
        ],
        [
         "many",
         "179.0",
         "0.0",
         "0.0",
         "14.0",
         "0.0"
        ],
        [
         "other",
         "4324.0",
         "94.0",
         "427.0",
         "109.0",
         "174.0"
        ],
        [
         "both",
         "278.0",
         "2.0",
         "31.0",
         "18.0",
         "9.0"
        ],
        [
         "tobacco",
         "1.0",
         "0.0",
         "0.0",
         "0.0",
         "0.0"
        ],
        [
         "i.e.",
         "78.0",
         "0.0",
         "0.0",
         "19.0",
         "5.0"
        ],
        [
         "people",
         "1.0",
         "0.0",
         "0.0",
         "0.0",
         "0.0"
        ],
        [
         "(",
         "10655.0",
         "152.0",
         "458.0",
         "449.0",
         "287.0"
        ],
        [
         ")",
         "10608.0",
         "152.0",
         "455.0",
         "449.0",
         "284.0"
        ],
        [
         "cigarettes",
         "1.0",
         "0.0",
         "0.0",
         "0.0",
         "0.0"
        ],
        [
         "products",
         "396.0",
         "0.0",
         "18.0",
         "15.0",
         "14.0"
        ],
        [
         "personality",
         "1.0",
         "0.0",
         "0.0",
         "0.0",
         "0.0"
        ],
        [
         "user",
         "1.0",
         "0.0",
         "0.0",
         "0.0",
         "0.0"
        ],
        [
         "initiation",
         "64.0",
         "0.0",
         "14.0",
         "0.0",
         "7.0"
        ]
       ],
       "shape": {
        "columns": 5,
        "rows": 5020
       }
      },
      "text/html": [
       "<div>\n",
       "<style scoped>\n",
       "    .dataframe tbody tr th:only-of-type {\n",
       "        vertical-align: middle;\n",
       "    }\n",
       "\n",
       "    .dataframe tbody tr th {\n",
       "        vertical-align: top;\n",
       "    }\n",
       "\n",
       "    .dataframe thead th {\n",
       "        text-align: right;\n",
       "    }\n",
       "</style>\n",
       "<table border=\"1\" class=\"dataframe\">\n",
       "  <thead>\n",
       "    <tr style=\"text-align: right;\">\n",
       "      <th></th>\n",
       "      <th>null</th>\n",
       "      <th>int</th>\n",
       "      <th>effect</th>\n",
       "      <th>mechanism</th>\n",
       "      <th>advise</th>\n",
       "    </tr>\n",
       "  </thead>\n",
       "  <tbody>\n",
       "    <tr>\n",
       "      <th>problems</th>\n",
       "      <td>45.0</td>\n",
       "      <td>3.0</td>\n",
       "      <td>1.0</td>\n",
       "      <td>0.0</td>\n",
       "      <td>0.0</td>\n",
       "    </tr>\n",
       "    <tr>\n",
       "      <th>of</th>\n",
       "      <td>12792.0</td>\n",
       "      <td>117.0</td>\n",
       "      <td>1087.0</td>\n",
       "      <td>874.0</td>\n",
       "      <td>460.0</td>\n",
       "    </tr>\n",
       "    <tr>\n",
       "      <th>treatment</th>\n",
       "      <td>311.0</td>\n",
       "      <td>1.0</td>\n",
       "      <td>26.0</td>\n",
       "      <td>17.0</td>\n",
       "      <td>41.0</td>\n",
       "    </tr>\n",
       "    <tr>\n",
       "      <th>typical</th>\n",
       "      <td>2.0</td>\n",
       "      <td>1.0</td>\n",
       "      <td>0.0</td>\n",
       "      <td>0.0</td>\n",
       "      <td>0.0</td>\n",
       "    </tr>\n",
       "    <tr>\n",
       "      <th>.</th>\n",
       "      <td>18155.0</td>\n",
       "      <td>217.0</td>\n",
       "      <td>1409.0</td>\n",
       "      <td>964.0</td>\n",
       "      <td>661.0</td>\n",
       "    </tr>\n",
       "    <tr>\n",
       "      <th>...</th>\n",
       "      <td>...</td>\n",
       "      <td>...</td>\n",
       "      <td>...</td>\n",
       "      <td>...</td>\n",
       "      <td>...</td>\n",
       "    </tr>\n",
       "    <tr>\n",
       "      <th>anhydrase</th>\n",
       "      <td>0.0</td>\n",
       "      <td>0.0</td>\n",
       "      <td>0.0</td>\n",
       "      <td>0.0</td>\n",
       "      <td>1.0</td>\n",
       "    </tr>\n",
       "    <tr>\n",
       "      <th>tachypnea</th>\n",
       "      <td>0.0</td>\n",
       "      <td>0.0</td>\n",
       "      <td>0.0</td>\n",
       "      <td>0.0</td>\n",
       "      <td>1.0</td>\n",
       "    </tr>\n",
       "    <tr>\n",
       "      <th>anorexia</th>\n",
       "      <td>0.0</td>\n",
       "      <td>0.0</td>\n",
       "      <td>0.0</td>\n",
       "      <td>0.0</td>\n",
       "      <td>1.0</td>\n",
       "    </tr>\n",
       "    <tr>\n",
       "      <th>pcp</th>\n",
       "      <td>0.0</td>\n",
       "      <td>0.0</td>\n",
       "      <td>0.0</td>\n",
       "      <td>0.0</td>\n",
       "      <td>1.0</td>\n",
       "    </tr>\n",
       "    <tr>\n",
       "      <th>t.a</th>\n",
       "      <td>0.0</td>\n",
       "      <td>0.0</td>\n",
       "      <td>0.0</td>\n",
       "      <td>0.0</td>\n",
       "      <td>1.0</td>\n",
       "    </tr>\n",
       "  </tbody>\n",
       "</table>\n",
       "<p>5020 rows × 5 columns</p>\n",
       "</div>"
      ],
      "text/plain": [
       "              null    int  effect  mechanism  advise\n",
       "problems      45.0    3.0     1.0        0.0     0.0\n",
       "of         12792.0  117.0  1087.0      874.0   460.0\n",
       "treatment    311.0    1.0    26.0       17.0    41.0\n",
       "typical        2.0    1.0     0.0        0.0     0.0\n",
       ".          18155.0  217.0  1409.0      964.0   661.0\n",
       "...            ...    ...     ...        ...     ...\n",
       "anhydrase      0.0    0.0     0.0        0.0     1.0\n",
       "tachypnea      0.0    0.0     0.0        0.0     1.0\n",
       "anorexia       0.0    0.0     0.0        0.0     1.0\n",
       "pcp            0.0    0.0     0.0        0.0     1.0\n",
       "t.a            0.0    0.0     0.0        0.0     1.0\n",
       "\n",
       "[5020 rows x 5 columns]"
      ]
     },
     "execution_count": 158,
     "metadata": {},
     "output_type": "execute_result"
    }
   ],
   "source": [
    "# Compute the histogram of the appearances of each word depending on the interaction type\n",
    "counts = defaultdict(lambda: defaultdict(int))\n",
    "for i, probs in df.iterrows():\n",
    "    for word in probs[\"words\"]:\n",
    "        counts[word][probs[\"interaction\"]] += 1\n",
    "\n",
    "\n",
    "counts = pd.DataFrame.from_dict(counts, orient=\"index\").fillna(0)\n",
    "counts"
   ]
  },
  {
   "cell_type": "code",
   "execution_count": 159,
   "id": "4d192a53",
   "metadata": {},
   "outputs": [
    {
     "data": {
      "application/vnd.microsoft.datawrangler.viewer.v0+json": {
       "columns": [
        {
         "name": "index",
         "rawType": "object",
         "type": "string"
        },
        {
         "name": "prob_yes",
         "rawType": "float64",
         "type": "float"
        },
        {
         "name": "prob_no",
         "rawType": "float64",
         "type": "float"
        }
       ],
       "conversionMethod": "pd.DataFrame",
       "ref": "f4d467aa-ee46-4714-9ad5-d26ce6c3bad1",
       "rows": [
        [
         ".",
         "0.9247451183687576",
         "0.07525488163124239"
        ],
        [
         ",",
         "0.8497494383964057",
         "0.1502505616035943"
        ],
        [
         "of",
         "0.6622602384655262",
         "0.3377397615344738"
        ],
        [
         "and",
         "0.6365560739588734",
         "0.36344392604112663"
        ],
        [
         "the",
         "0.6063158804216346",
         "0.39368411957836535"
        ],
        [
         "(",
         "0.5184465180577156",
         "0.4815534819422844"
        ],
        [
         ")",
         "0.5161569034041817",
         "0.48384309659581826"
        ],
        [
         ":",
         "0.4336875756004838",
         "0.5663124243995161"
        ],
        [
         "with",
         "0.43027475375842406",
         "0.5697252462415759"
        ],
        [
         "in",
         "0.4191722827026093",
         "0.5808277172973907"
        ],
        [
         "may",
         "0.3402885778468982",
         "0.6597114221531017"
        ],
        [
         "drugs",
         "0.3372213582166926",
         "0.6627786417833075"
        ],
        [
         "or",
         "0.3288405045792293",
         "0.6711594954207707"
        ],
        [
         "inhibitors",
         "0.29933471574218073",
         "0.7006652842578193"
        ],
        [
         "to",
         "0.28106099879039226",
         "0.7189390012096077"
        ],
        [
         "that",
         "0.2725505443234837",
         "0.7274494556765163"
        ],
        [
         "other",
         "0.22153101779851392",
         "0.7784689822014861"
        ],
        [
         "oral",
         "0.22118541558665974",
         "0.7788145844133403"
        ],
        [
         "as",
         "0.20787973043027475",
         "0.7921202695697253"
        ],
        [
         "such",
         "0.18001555209953343",
         "0.8199844479004665"
        ],
        [
         "following",
         "0.17910834629341627",
         "0.8208916537065838"
        ],
        [
         "a",
         "0.17167789873855194",
         "0.8283221012614481"
        ],
        [
         "been",
         "0.16822187662001037",
         "0.8317781233799897"
        ],
        [
         "are",
         "0.16359944703646104",
         "0.836400552963539"
        ],
        [
         "have",
         "0.16074822878866424",
         "0.8392517712113358"
        ],
        [
         "agents",
         "0.15949542077069293",
         "0.8405045792293071"
        ],
        [
         "increase",
         "0.15664420252289615",
         "0.8433557974771039"
        ],
        [
         "be",
         "0.1475289441852428",
         "0.8524710558147572"
        ],
        [
         "plasma",
         "0.13310005184033177",
         "0.8668999481596682"
        ],
        [
         "is",
         "0.13232244686365993",
         "0.8676775531363401"
        ],
        [
         "by",
         "0.12830482115085537",
         "0.8716951788491446"
        ],
        [
         "include",
         "0.12636080870917574",
         "0.8736391912908242"
        ],
        [
         "acid",
         "0.1247191982028685",
         "0.8752808017971315"
        ],
        [
         "increased",
         "0.12212718161396233",
         "0.8778728183860377"
        ],
        [
         "protease",
         "0.11620874373595991",
         "0.8837912562640401"
        ],
        [
         ";",
         "0.11560393986521514",
         "0.8843960601347849"
        ],
        [
         "not",
         "0.11530153792984275",
         "0.8846984620701572"
        ],
        [
         "levels",
         "0.11430793157076205",
         "0.885692068429238"
        ],
        [
         "sodium",
         "0.11054950751684811",
         "0.8894504924831519"
        ],
        [
         "patients",
         "0.10316226023846553",
         "0.8968377397615345"
        ],
        [
         "interactions",
         "0.10255745636772075",
         "0.8974425436322793"
        ],
        [
         "concomitant",
         "0.10173665111456713",
         "0.8982633488854329"
        ],
        [
         "blood",
         "0.09871263176084327",
         "0.9012873682391567"
        ],
        [
         "when",
         "0.09720062208398134",
         "0.9027993779160186"
        ],
        [
         "e.g.",
         "0.09715742180749957",
         "0.9028425781925005"
        ],
        [
         "oxidase",
         "0.09702782097805426",
         "0.9029721790219457"
        ],
        [
         "monoamine",
         "0.09659581821323657",
         "0.9034041817867634"
        ],
        [
         "on",
         "0.09573181268360118",
         "0.9042681873163988"
        ],
        [
         "thyroid",
         "0.09421980300673924",
         "0.9057801969932607"
        ],
        [
         "should",
         "0.09266459305339554",
         "0.9073354069466044"
        ]
       ],
       "shape": {
        "columns": 2,
        "rows": 5020
       }
      },
      "text/html": [
       "<div>\n",
       "<style scoped>\n",
       "    .dataframe tbody tr th:only-of-type {\n",
       "        vertical-align: middle;\n",
       "    }\n",
       "\n",
       "    .dataframe tbody tr th {\n",
       "        vertical-align: top;\n",
       "    }\n",
       "\n",
       "    .dataframe thead th {\n",
       "        text-align: right;\n",
       "    }\n",
       "</style>\n",
       "<table border=\"1\" class=\"dataframe\">\n",
       "  <thead>\n",
       "    <tr style=\"text-align: right;\">\n",
       "      <th></th>\n",
       "      <th>prob_yes</th>\n",
       "      <th>prob_no</th>\n",
       "    </tr>\n",
       "  </thead>\n",
       "  <tbody>\n",
       "    <tr>\n",
       "      <th>.</th>\n",
       "      <td>0.924745</td>\n",
       "      <td>0.075255</td>\n",
       "    </tr>\n",
       "    <tr>\n",
       "      <th>,</th>\n",
       "      <td>0.849749</td>\n",
       "      <td>0.150251</td>\n",
       "    </tr>\n",
       "    <tr>\n",
       "      <th>of</th>\n",
       "      <td>0.662260</td>\n",
       "      <td>0.337740</td>\n",
       "    </tr>\n",
       "    <tr>\n",
       "      <th>and</th>\n",
       "      <td>0.636556</td>\n",
       "      <td>0.363444</td>\n",
       "    </tr>\n",
       "    <tr>\n",
       "      <th>the</th>\n",
       "      <td>0.606316</td>\n",
       "      <td>0.393684</td>\n",
       "    </tr>\n",
       "    <tr>\n",
       "      <th>...</th>\n",
       "      <td>...</td>\n",
       "      <td>...</td>\n",
       "    </tr>\n",
       "    <tr>\n",
       "      <th>intranasal</th>\n",
       "      <td>0.000043</td>\n",
       "      <td>0.999957</td>\n",
       "    </tr>\n",
       "    <tr>\n",
       "      <th>72-hour</th>\n",
       "      <td>0.000043</td>\n",
       "      <td>0.999957</td>\n",
       "    </tr>\n",
       "    <tr>\n",
       "      <th>compensatory</th>\n",
       "      <td>0.000043</td>\n",
       "      <td>0.999957</td>\n",
       "    </tr>\n",
       "    <tr>\n",
       "      <th>insure</th>\n",
       "      <td>0.000043</td>\n",
       "      <td>0.999957</td>\n",
       "    </tr>\n",
       "    <tr>\n",
       "      <th>awareness</th>\n",
       "      <td>0.000043</td>\n",
       "      <td>0.999957</td>\n",
       "    </tr>\n",
       "  </tbody>\n",
       "</table>\n",
       "<p>5020 rows × 2 columns</p>\n",
       "</div>"
      ],
      "text/plain": [
       "              prob_yes   prob_no\n",
       ".             0.924745  0.075255\n",
       ",             0.849749  0.150251\n",
       "of            0.662260  0.337740\n",
       "and           0.636556  0.363444\n",
       "the           0.606316  0.393684\n",
       "...                ...       ...\n",
       "intranasal    0.000043  0.999957\n",
       "72-hour       0.000043  0.999957\n",
       "compensatory  0.000043  0.999957\n",
       "insure        0.000043  0.999957\n",
       "awareness     0.000043  0.999957\n",
       "\n",
       "[5020 rows x 2 columns]"
      ]
     },
     "execution_count": 159,
     "metadata": {},
     "output_type": "execute_result"
    }
   ],
   "source": [
    "word_probs = pd.DataFrame(counts.sum(axis=1) / len(df), columns=[\"prob_yes\"])\n",
    "word_probs[\"prob_no\"] = 1 - word_probs[\"prob_yes\"]\n",
    "word_probs.sort_values(by=\"prob_yes\", ascending=False)"
   ]
  },
  {
   "cell_type": "code",
   "execution_count": 160,
   "id": "324b5e0b",
   "metadata": {},
   "outputs": [
    {
     "data": {
      "application/vnd.microsoft.datawrangler.viewer.v0+json": {
       "columns": [
        {
         "name": "index",
         "rawType": "object",
         "type": "string"
        },
        {
         "name": "null",
         "rawType": "float64",
         "type": "float"
        },
        {
         "name": "int",
         "rawType": "float64",
         "type": "float"
        },
        {
         "name": "effect",
         "rawType": "float64",
         "type": "float"
        },
        {
         "name": "mechanism",
         "rawType": "float64",
         "type": "float"
        },
        {
         "name": "advise",
         "rawType": "float64",
         "type": "float"
        }
       ],
       "conversionMethod": "pd.DataFrame",
       "ref": "bd327c7a-ac43-45ce-9f25-e1bf278ce01e",
       "rows": [
        [
         "problems",
         "0.002278481012658228",
         "0.012987012987012988",
         "0.000689655172413793",
         "0.0",
         "0.0"
        ],
        [
         "of",
         "0.6476962025316456",
         "0.5064935064935064",
         "0.7496551724137931",
         "0.8568627450980392",
         "0.6599713055954088"
        ],
        [
         "treatment",
         "0.015746835443037975",
         "0.004329004329004329",
         "0.01793103448275862",
         "0.016666666666666666",
         "0.058823529411764705"
        ],
        [
         "typical",
         "0.00010126582278481013",
         "0.004329004329004329",
         "0.0",
         "0.0",
         "0.0"
        ],
        [
         ".",
         "0.9192405063291139",
         "0.9393939393939394",
         "0.9717241379310345",
         "0.9450980392156862",
         "0.9483500717360115"
        ],
        [
         "illustrated",
         "5.0632911392405066e-05",
         "0.0",
         "0.0",
         "0.0",
         "0.0"
        ],
        [
         "by",
         "0.12222784810126583",
         "0.0",
         "0.16827586206896553",
         "0.22450980392156863",
         "0.11908177905308465"
        ],
        [
         "psychotic",
         "0.0064810126582278485",
         "0.03463203463203463",
         "0.001379310344827586",
         "0.0",
         "0.0"
        ],
        [
         "incisive",
         "5.0632911392405066e-05",
         "0.0",
         "0.0",
         "0.0",
         "0.0"
        ],
        [
         "are",
         "0.16936708860759495",
         "0.025974025974025976",
         "0.0896551724137931",
         "0.17058823529411765",
         "0.18938307030129126"
        ],
        [
         "longterm",
         "5.0632911392405066e-05",
         "0.0",
         "0.0",
         "0.0",
         "0.0"
        ],
        [
         "encountered",
         "5.0632911392405066e-05",
         "0.0",
         "0.0",
         "0.0",
         "0.0"
        ],
        [
         "six",
         "0.0005569620253164557",
         "0.0",
         "0.0",
         "0.00196078431372549",
         "0.0"
        ],
        [
         "reports",
         "0.013620253164556962",
         "0.04329004329004329",
         "0.03793103448275862",
         "0.00392156862745098",
         "0.00430416068866571"
        ],
        [
         "case",
         "0.0007594936708860759",
         "0.0",
         "0.0034482758620689655",
         "0.00196078431372549",
         "0.0014347202295552368"
        ],
        [
         "patients",
         "0.0969620253164557",
         "0.012987012987012988",
         "0.16758620689655174",
         "0.05784313725490196",
         "0.24103299856527977"
        ],
        [
         "with",
         "0.42475949367088606",
         "0.6666666666666666",
         "0.39655172413793105",
         "0.3480392156862745",
         "0.6987087517934003"
        ],
        [
         ";",
         "0.1279493670886076",
         "0.0",
         "0.0696551724137931",
         "0.025490196078431372",
         "0.03156384505021521"
        ],
        [
         "therapeutic",
         "0.02050632911392405",
         "0.0",
         "0.00896551724137931",
         "0.021568627450980392",
         "0.04447632711621234"
        ],
        [
         "]",
         "0.01179746835443038",
         "0.0",
         "0.011724137931034483",
         "0.00392156862745098",
         "0.03873744619799139"
        ],
        [
         "monitoring",
         "0.0036962025316455696",
         "0.0",
         "0.000689655172413793",
         "0.000980392156862745",
         "0.020086083213773313"
        ],
        [
         "[",
         "0.01179746835443038",
         "0.0",
         "0.011724137931034483",
         "0.00392156862745098",
         "0.03873744619799139"
        ],
        [
         "the",
         "0.6060759493670886",
         "0.658008658008658",
         "0.636551724137931",
         "0.6676470588235294",
         "0.4433285509325681"
        ],
        [
         "during",
         "0.022025316455696203",
         "0.09090909090909091",
         "0.018620689655172412",
         "0.01568627450980392",
         "0.035868005738880916"
        ],
        [
         "to",
         "0.28177215189873417",
         "0.10822510822510822",
         "0.23310344827586207",
         "0.3696078431372549",
         "0.2883787661406026"
        ],
        [
         "approach",
         "0.0001518987341772152",
         "0.0",
         "0.000689655172413793",
         "0.0",
         "0.0"
        ],
        [
         "quantitative",
         "5.0632911392405066e-05",
         "0.0",
         "0.0",
         "0.0",
         "0.0"
        ],
        [
         "oral",
         "0.24065822784810126",
         "0.1038961038961039",
         "0.12",
         "0.13823529411764707",
         "0.040172166427546625"
        ],
        [
         "and",
         "0.6412151898734177",
         "0.8354978354978355",
         "0.5972413793103448",
         "0.6215686274509804",
         "0.5423242467718795"
        ],
        [
         ",",
         "0.8691139240506329",
         "0.8658008658008658",
         "0.7096551724137931",
         "0.7254901960784313",
         "0.7690100430416069"
        ],
        [
         "decrease",
         "0.03367088607594937",
         "0.09090909090909091",
         "0.029655172413793104",
         "0.10294117647058823",
         "0.005738880918220947"
        ],
        [
         "certain",
         "0.04749367088607595",
         "0.16883116883116883",
         "0.08",
         "0.012745098039215686",
         "0.06025824964131994"
        ],
        [
         "effectiveness",
         "0.010784810126582278",
         "0.030303030303030304",
         "0.012413793103448275",
         "0.0",
         "0.0"
        ],
        [
         "may",
         "0.3351898734177215",
         "0.696969696969697",
         "0.48758620689655174",
         "0.28921568627450983",
         "0.13486370157819225"
        ],
        [
         "beta",
         "0.025822784810126582",
         "0.06493506493506493",
         "0.02689655172413793",
         "0.0",
         "0.007173601147776184"
        ],
        [
         "blockers",
         "0.028962025316455697",
         "0.06493506493506493",
         "0.02413793103448276",
         "0.00392156862745098",
         "0.014347202295552367"
        ],
        [
         "use",
         "0.07584810126582278",
         "0.08658008658008658",
         "0.1296551724137931",
         "0.041176470588235294",
         "0.08895265423242468"
        ],
        [
         "many",
         "0.009063291139240506",
         "0.0",
         "0.0",
         "0.013725490196078431",
         "0.0"
        ],
        [
         "other",
         "0.2189367088607595",
         "0.4069264069264069",
         "0.2944827586206897",
         "0.10686274509803921",
         "0.24964131994261118"
        ],
        [
         "both",
         "0.014075949367088607",
         "0.008658008658008658",
         "0.021379310344827585",
         "0.01764705882352941",
         "0.01291248206599713"
        ],
        [
         "tobacco",
         "5.0632911392405066e-05",
         "0.0",
         "0.0",
         "0.0",
         "0.0"
        ],
        [
         "i.e.",
         "0.003949367088607595",
         "0.0",
         "0.0",
         "0.018627450980392157",
         "0.007173601147776184"
        ],
        [
         "people",
         "5.0632911392405066e-05",
         "0.0",
         "0.0",
         "0.0",
         "0.0"
        ],
        [
         "(",
         "0.5394936708860759",
         "0.658008658008658",
         "0.3158620689655172",
         "0.44019607843137254",
         "0.4117647058823529"
        ],
        [
         ")",
         "0.537113924050633",
         "0.658008658008658",
         "0.3137931034482759",
         "0.44019607843137254",
         "0.40746054519368724"
        ],
        [
         "cigarettes",
         "5.0632911392405066e-05",
         "0.0",
         "0.0",
         "0.0",
         "0.0"
        ],
        [
         "products",
         "0.020050632911392405",
         "0.0",
         "0.012413793103448275",
         "0.014705882352941176",
         "0.020086083213773313"
        ],
        [
         "personality",
         "5.0632911392405066e-05",
         "0.0",
         "0.0",
         "0.0",
         "0.0"
        ],
        [
         "user",
         "5.0632911392405066e-05",
         "0.0",
         "0.0",
         "0.0",
         "0.0"
        ],
        [
         "initiation",
         "0.0032405063291139242",
         "0.0",
         "0.009655172413793104",
         "0.0",
         "0.010043041606886656"
        ]
       ],
       "shape": {
        "columns": 5,
        "rows": 5020
       }
      },
      "text/html": [
       "<div>\n",
       "<style scoped>\n",
       "    .dataframe tbody tr th:only-of-type {\n",
       "        vertical-align: middle;\n",
       "    }\n",
       "\n",
       "    .dataframe tbody tr th {\n",
       "        vertical-align: top;\n",
       "    }\n",
       "\n",
       "    .dataframe thead th {\n",
       "        text-align: right;\n",
       "    }\n",
       "</style>\n",
       "<table border=\"1\" class=\"dataframe\">\n",
       "  <thead>\n",
       "    <tr style=\"text-align: right;\">\n",
       "      <th></th>\n",
       "      <th>null</th>\n",
       "      <th>int</th>\n",
       "      <th>effect</th>\n",
       "      <th>mechanism</th>\n",
       "      <th>advise</th>\n",
       "    </tr>\n",
       "  </thead>\n",
       "  <tbody>\n",
       "    <tr>\n",
       "      <th>problems</th>\n",
       "      <td>0.002278</td>\n",
       "      <td>0.012987</td>\n",
       "      <td>0.000690</td>\n",
       "      <td>0.000000</td>\n",
       "      <td>0.000000</td>\n",
       "    </tr>\n",
       "    <tr>\n",
       "      <th>of</th>\n",
       "      <td>0.647696</td>\n",
       "      <td>0.506494</td>\n",
       "      <td>0.749655</td>\n",
       "      <td>0.856863</td>\n",
       "      <td>0.659971</td>\n",
       "    </tr>\n",
       "    <tr>\n",
       "      <th>treatment</th>\n",
       "      <td>0.015747</td>\n",
       "      <td>0.004329</td>\n",
       "      <td>0.017931</td>\n",
       "      <td>0.016667</td>\n",
       "      <td>0.058824</td>\n",
       "    </tr>\n",
       "    <tr>\n",
       "      <th>typical</th>\n",
       "      <td>0.000101</td>\n",
       "      <td>0.004329</td>\n",
       "      <td>0.000000</td>\n",
       "      <td>0.000000</td>\n",
       "      <td>0.000000</td>\n",
       "    </tr>\n",
       "    <tr>\n",
       "      <th>.</th>\n",
       "      <td>0.919241</td>\n",
       "      <td>0.939394</td>\n",
       "      <td>0.971724</td>\n",
       "      <td>0.945098</td>\n",
       "      <td>0.948350</td>\n",
       "    </tr>\n",
       "    <tr>\n",
       "      <th>...</th>\n",
       "      <td>...</td>\n",
       "      <td>...</td>\n",
       "      <td>...</td>\n",
       "      <td>...</td>\n",
       "      <td>...</td>\n",
       "    </tr>\n",
       "    <tr>\n",
       "      <th>anhydrase</th>\n",
       "      <td>0.000000</td>\n",
       "      <td>0.000000</td>\n",
       "      <td>0.000000</td>\n",
       "      <td>0.000000</td>\n",
       "      <td>0.001435</td>\n",
       "    </tr>\n",
       "    <tr>\n",
       "      <th>tachypnea</th>\n",
       "      <td>0.000000</td>\n",
       "      <td>0.000000</td>\n",
       "      <td>0.000000</td>\n",
       "      <td>0.000000</td>\n",
       "      <td>0.001435</td>\n",
       "    </tr>\n",
       "    <tr>\n",
       "      <th>anorexia</th>\n",
       "      <td>0.000000</td>\n",
       "      <td>0.000000</td>\n",
       "      <td>0.000000</td>\n",
       "      <td>0.000000</td>\n",
       "      <td>0.001435</td>\n",
       "    </tr>\n",
       "    <tr>\n",
       "      <th>pcp</th>\n",
       "      <td>0.000000</td>\n",
       "      <td>0.000000</td>\n",
       "      <td>0.000000</td>\n",
       "      <td>0.000000</td>\n",
       "      <td>0.001435</td>\n",
       "    </tr>\n",
       "    <tr>\n",
       "      <th>t.a</th>\n",
       "      <td>0.000000</td>\n",
       "      <td>0.000000</td>\n",
       "      <td>0.000000</td>\n",
       "      <td>0.000000</td>\n",
       "      <td>0.001435</td>\n",
       "    </tr>\n",
       "  </tbody>\n",
       "</table>\n",
       "<p>5020 rows × 5 columns</p>\n",
       "</div>"
      ],
      "text/plain": [
       "               null       int    effect  mechanism    advise\n",
       "problems   0.002278  0.012987  0.000690   0.000000  0.000000\n",
       "of         0.647696  0.506494  0.749655   0.856863  0.659971\n",
       "treatment  0.015747  0.004329  0.017931   0.016667  0.058824\n",
       "typical    0.000101  0.004329  0.000000   0.000000  0.000000\n",
       ".          0.919241  0.939394  0.971724   0.945098  0.948350\n",
       "...             ...       ...       ...        ...       ...\n",
       "anhydrase  0.000000  0.000000  0.000000   0.000000  0.001435\n",
       "tachypnea  0.000000  0.000000  0.000000   0.000000  0.001435\n",
       "anorexia   0.000000  0.000000  0.000000   0.000000  0.001435\n",
       "pcp        0.000000  0.000000  0.000000   0.000000  0.001435\n",
       "t.a        0.000000  0.000000  0.000000   0.000000  0.001435\n",
       "\n",
       "[5020 rows x 5 columns]"
      ]
     },
     "execution_count": 160,
     "metadata": {},
     "output_type": "execute_result"
    }
   ],
   "source": [
    "# Divide by the amount of sentences in the corpus\n",
    "conditional_probabilities = counts.copy()\n",
    "for inter in counts.columns:\n",
    "    conditional_probabilities[inter] = counts[inter] / df[\"interaction\"].value_counts()[inter]\n",
    "\n",
    "# At this point, counts is a dataframe the index of which is all the words in the corpus,\n",
    "# and the columns are the interaction types. Each cell contains the marginal probability of the word\n",
    "# given the interaction type. (P(word=yes|interaction))\n",
    "conditional_probabilities"
   ]
  },
  {
   "cell_type": "markdown",
   "id": "84a4825b",
   "metadata": {},
   "source": [
    "At this point, the matrix holds the following conditional probabilities:\n",
    "$$\n",
    "P(W_{i}=1| I=\\mathcal{I}_j)\n",
    "$$\n",
    "Where $W_{i}$ is a random variable that indicates whether the $i$-th word is present in the document, having $W_{i}=1$ if it is present and $W_{i}=0$ otherwise; $I$ is the random variable that indicates the class of the document, and $\\mathcal{I}_j$ is the $j$-th class.\n",
    "\n",
    "Thus, we can use this matrix to calculate the probability of the co-occurrence of a word $i$ and a class $j$:\n",
    "$$\n",
    "P(W_{i}=1, I=\\mathcal{I}_j) = P(W_{i}=1| I=\\mathcal{I}_j) \\cdot P(I=\\mathcal{I}_j)\n",
    "$$\n",
    "And the same for the negative case:\n",
    "$$\n",
    "P(W_{i}=0, I=\\mathcal{I}_j) = P(W_{i}=0| I=\\mathcal{I}_j) \\cdot P(I=\\mathcal{I}_j) = (1 - P(W_{i}=1| I=\\mathcal{I}_j)) \\cdot P(I=\\mathcal{I}_j)\n",
    "$$"
   ]
  },
  {
   "cell_type": "code",
   "execution_count": 161,
   "id": "66cc72f9",
   "metadata": {},
   "outputs": [
    {
     "data": {
      "text/plain": [
       "interaction\n",
       "null         0.853205\n",
       "effect       0.062640\n",
       "mechanism    0.044064\n",
       "advise       0.030111\n",
       "int          0.009979\n",
       "Name: count, dtype: float64"
      ]
     },
     "execution_count": 161,
     "metadata": {},
     "output_type": "execute_result"
    }
   ],
   "source": [
    "prior_probabilities = df[\"interaction\"].value_counts() / len(df)\n",
    "prior_probabilities"
   ]
  },
  {
   "cell_type": "code",
   "execution_count": 162,
   "id": "9a6a6481",
   "metadata": {},
   "outputs": [
    {
     "data": {
      "application/vnd.microsoft.datawrangler.viewer.v0+json": {
       "columns": [
        {
         "name": "index",
         "rawType": "object",
         "type": "string"
        },
        {
         "name": "null",
         "rawType": "float64",
         "type": "float"
        },
        {
         "name": "int",
         "rawType": "float64",
         "type": "float"
        },
        {
         "name": "effect",
         "rawType": "float64",
         "type": "float"
        },
        {
         "name": "mechanism",
         "rawType": "float64",
         "type": "float"
        },
        {
         "name": "advise",
         "rawType": "float64",
         "type": "float"
        }
       ],
       "conversionMethod": "pd.DataFrame",
       "ref": "1c1262e8-3556-4986-915f-323c2cadb556",
       "rows": [
        [
         "problems",
         "0.0019440124416796269",
         "0.00012960082944530845",
         "4.320027648176948e-05",
         "0.0",
         "0.0"
        ],
        [
         "of",
         "0.5526179367547953",
         "0.005054432348367029",
         "0.04695870053568343",
         "0.037757041645066526",
         "0.01987212718161396"
        ],
        [
         "treatment",
         "0.01343528598583031",
         "4.320027648176948e-05",
         "0.0011232071885260064",
         "0.0007344047001900812",
         "0.0017712113357525488"
        ],
        [
         "typical",
         "8.640055296353897e-05",
         "4.320027648176948e-05",
         "0.0",
         "0.0",
         "0.0"
        ],
        [
         ".",
         "0.784301019526525",
         "0.009374459996543977",
         "0.0608691895628132",
         "0.041645066528425784",
         "0.02855538275444963"
        ],
        [
         "illustrated",
         "4.3200276481769485e-05",
         "0.0",
         "0.0",
         "0.0",
         "0.0"
        ],
        [
         "by",
         "0.10428546742699153",
         "0.0",
         "0.010540867461551754",
         "0.009892863314325212",
         "0.003585622947986867"
        ],
        [
         "psychotic",
         "0.005529635389666494",
         "0.00034560221185415583",
         "8.640055296353896e-05",
         "0.0",
         "0.0"
        ],
        [
         "incisive",
         "4.3200276481769485e-05",
         "0.0",
         "0.0",
         "0.0",
         "0.0"
        ],
        [
         "are",
         "0.14450492483151892",
         "0.0002592016588906169",
         "0.005616035942630032",
         "0.00751684810782789",
         "0.005702436495593572"
        ],
        [
         "longterm",
         "4.3200276481769485e-05",
         "0.0",
         "0.0",
         "0.0",
         "0.0"
        ],
        [
         "encountered",
         "4.3200276481769485e-05",
         "0.0",
         "0.0",
         "0.0",
         "0.0"
        ],
        [
         "six",
         "0.0004752030412994643",
         "0.0",
         "0.0",
         "8.640055296353897e-05",
         "0.0"
        ],
        [
         "reports",
         "0.01162087437359599",
         "0.00043200276481769476",
         "0.0023760152064973214",
         "0.00017280110592707794",
         "0.00012960082944530845"
        ],
        [
         "case",
         "0.0006480041472265422",
         "0.0",
         "0.0002160013824088474",
         "8.640055296353897e-05",
         "4.3200276481769485e-05"
        ],
        [
         "patients",
         "0.08272852946258856",
         "0.00012960082944530845",
         "0.010497667185069984",
         "0.0025488163124243995",
         "0.007257646448937273"
        ],
        [
         "with",
         "0.3624071194055642",
         "0.0066528425781925",
         "0.024840158977017454",
         "0.015336098151028167",
         "0.02103853464662174"
        ],
        [
         ";",
         "0.10916709866943149",
         "0.0",
         "0.0043632279246587176",
         "0.0011232071885260066",
         "0.0009504060825989286"
        ],
        [
         "therapeutic",
         "0.017496111975116642",
         "0.0",
         "0.0005616035942630032",
         "0.0009504060825989287",
         "0.001339208570934854"
        ],
        [
         "]",
         "0.01006566442025229",
         "0.0",
         "0.0007344047001900812",
         "0.00017280110592707794",
         "0.001166407465007776"
        ],
        [
         "monitoring",
         "0.0031536201831691723",
         "0.0",
         "4.320027648176948e-05",
         "4.3200276481769485e-05",
         "0.0006048038707447727"
        ],
        [
         "[",
         "0.01006566442025229",
         "0.0",
         "0.0007344047001900812",
         "0.00017280110592707794",
         "0.001166407465007776"
        ],
        [
         "the",
         "0.5171073094867807",
         "0.006566442025228961",
         "0.03987385519267323",
         "0.029419388284085017",
         "0.01334888543286677"
        ],
        [
         "during",
         "0.018792120269569727",
         "0.0009072058061171591",
         "0.001166407465007776",
         "0.0006912044237083118",
         "0.001080006912044237"
        ],
        [
         "to",
         "0.24040953862104716",
         "0.001080006912044237",
         "0.014601693450838085",
         "0.016286504233627097",
         "0.008683255572835667"
        ],
        [
         "approach",
         "0.00012960082944530845",
         "0.0",
         "4.320027648176948e-05",
         "0.0",
         "0.0"
        ],
        [
         "quantitative",
         "4.3200276481769485e-05",
         "0.0",
         "0.0",
         "0.0",
         "0.0"
        ],
        [
         "oral",
         "0.20533091411785034",
         "0.0010368066355624676",
         "0.007516848107827889",
         "0.0060912389839294975",
         "0.0012096077414895455"
        ],
        [
         "and",
         "0.5470883013651288",
         "0.008337653360981509",
         "0.03741143943321237",
         "0.027388975289441852",
         "0.016329704510108865"
        ],
        [
         ",",
         "0.7415327458095732",
         "0.008640055296353895",
         "0.044453084499740794",
         "0.03196820459650942",
         "0.023155348194228445"
        ],
        [
         "decrease",
         "0.028728183860376708",
         "0.0009072058061171591",
         "0.0018576118887160878",
         "0.004536029030585796",
         "0.00017280110592707794"
        ],
        [
         "certain",
         "0.040521859339899775",
         "0.0016848107827890097",
         "0.00501123207188526",
         "0.0005616035942630033",
         "0.0018144116122343183"
        ],
        [
         "effectiveness",
         "0.0092016588906169",
         "0.00030240193537238636",
         "0.0007776049766718506",
         "0.0",
         "0.0"
        ],
        [
         "may",
         "0.28598583030931396",
         "0.006955244513564887",
         "0.030542595472611025",
         "0.012744081562121999",
         "0.004060825989286331"
        ],
        [
         "beta",
         "0.022032141005702437",
         "0.0006480041472265421",
         "0.0016848107827890097",
         "0.0",
         "0.0002160013824088474"
        ],
        [
         "blockers",
         "0.024710558147572146",
         "0.0006480041472265421",
         "0.0015120096768619319",
         "0.00017280110592707794",
         "0.0004320027648176948"
        ],
        [
         "use",
         "0.06471401416969068",
         "0.0008640055296353895",
         "0.008121651978572663",
         "0.0018144116122343183",
         "0.002678417141869708"
        ],
        [
         "many",
         "0.007732849490236737",
         "0.0",
         "0.0",
         "0.0006048038707447727",
         "0.0"
        ],
        [
         "other",
         "0.18679799550717124",
         "0.004060825989286331",
         "0.01844651805771557",
         "0.004708830136512874",
         "0.007516848107827889"
        ],
        [
         "both",
         "0.012009676861931915",
         "8.640055296353896e-05",
         "0.0013392085709348538",
         "0.0007776049766718507",
         "0.00038880248833592535"
        ],
        [
         "tobacco",
         "4.3200276481769485e-05",
         "0.0",
         "0.0",
         "0.0",
         "0.0"
        ],
        [
         "i.e.",
         "0.0033696215655780195",
         "0.0",
         "0.0",
         "0.0008208052531536202",
         "0.0002160013824088474"
        ],
        [
         "people",
         "4.3200276481769485e-05",
         "0.0",
         "0.0",
         "0.0",
         "0.0"
        ],
        [
         "(",
         "0.4602989459132538",
         "0.006566442025228961",
         "0.01978572662865042",
         "0.0193969241403145",
         "0.012398479350267841"
        ],
        [
         ")",
         "0.4582685329186107",
         "0.006566442025228961",
         "0.019656125799205115",
         "0.0193969241403145",
         "0.012268878520822533"
        ],
        [
         "cigarettes",
         "4.3200276481769485e-05",
         "0.0",
         "0.0",
         "0.0",
         "0.0"
        ],
        [
         "products",
         "0.017107309486780714",
         "0.0",
         "0.0007776049766718506",
         "0.0006480041472265422",
         "0.0006048038707447727"
        ],
        [
         "personality",
         "4.3200276481769485e-05",
         "0.0",
         "0.0",
         "0.0",
         "0.0"
        ],
        [
         "user",
         "4.3200276481769485e-05",
         "0.0",
         "0.0",
         "0.0",
         "0.0"
        ],
        [
         "initiation",
         "0.002764817694833247",
         "0.0",
         "0.0006048038707447727",
         "0.0",
         "0.00030240193537238636"
        ]
       ],
       "shape": {
        "columns": 5,
        "rows": 5020
       }
      },
      "text/html": [
       "<div>\n",
       "<style scoped>\n",
       "    .dataframe tbody tr th:only-of-type {\n",
       "        vertical-align: middle;\n",
       "    }\n",
       "\n",
       "    .dataframe tbody tr th {\n",
       "        vertical-align: top;\n",
       "    }\n",
       "\n",
       "    .dataframe thead th {\n",
       "        text-align: right;\n",
       "    }\n",
       "</style>\n",
       "<table border=\"1\" class=\"dataframe\">\n",
       "  <thead>\n",
       "    <tr style=\"text-align: right;\">\n",
       "      <th></th>\n",
       "      <th>null</th>\n",
       "      <th>int</th>\n",
       "      <th>effect</th>\n",
       "      <th>mechanism</th>\n",
       "      <th>advise</th>\n",
       "    </tr>\n",
       "  </thead>\n",
       "  <tbody>\n",
       "    <tr>\n",
       "      <th>problems</th>\n",
       "      <td>0.001944</td>\n",
       "      <td>0.000130</td>\n",
       "      <td>0.000043</td>\n",
       "      <td>0.000000</td>\n",
       "      <td>0.000000</td>\n",
       "    </tr>\n",
       "    <tr>\n",
       "      <th>of</th>\n",
       "      <td>0.552618</td>\n",
       "      <td>0.005054</td>\n",
       "      <td>0.046959</td>\n",
       "      <td>0.037757</td>\n",
       "      <td>0.019872</td>\n",
       "    </tr>\n",
       "    <tr>\n",
       "      <th>treatment</th>\n",
       "      <td>0.013435</td>\n",
       "      <td>0.000043</td>\n",
       "      <td>0.001123</td>\n",
       "      <td>0.000734</td>\n",
       "      <td>0.001771</td>\n",
       "    </tr>\n",
       "    <tr>\n",
       "      <th>typical</th>\n",
       "      <td>0.000086</td>\n",
       "      <td>0.000043</td>\n",
       "      <td>0.000000</td>\n",
       "      <td>0.000000</td>\n",
       "      <td>0.000000</td>\n",
       "    </tr>\n",
       "    <tr>\n",
       "      <th>.</th>\n",
       "      <td>0.784301</td>\n",
       "      <td>0.009374</td>\n",
       "      <td>0.060869</td>\n",
       "      <td>0.041645</td>\n",
       "      <td>0.028555</td>\n",
       "    </tr>\n",
       "    <tr>\n",
       "      <th>...</th>\n",
       "      <td>...</td>\n",
       "      <td>...</td>\n",
       "      <td>...</td>\n",
       "      <td>...</td>\n",
       "      <td>...</td>\n",
       "    </tr>\n",
       "    <tr>\n",
       "      <th>anhydrase</th>\n",
       "      <td>0.000000</td>\n",
       "      <td>0.000000</td>\n",
       "      <td>0.000000</td>\n",
       "      <td>0.000000</td>\n",
       "      <td>0.000043</td>\n",
       "    </tr>\n",
       "    <tr>\n",
       "      <th>tachypnea</th>\n",
       "      <td>0.000000</td>\n",
       "      <td>0.000000</td>\n",
       "      <td>0.000000</td>\n",
       "      <td>0.000000</td>\n",
       "      <td>0.000043</td>\n",
       "    </tr>\n",
       "    <tr>\n",
       "      <th>anorexia</th>\n",
       "      <td>0.000000</td>\n",
       "      <td>0.000000</td>\n",
       "      <td>0.000000</td>\n",
       "      <td>0.000000</td>\n",
       "      <td>0.000043</td>\n",
       "    </tr>\n",
       "    <tr>\n",
       "      <th>pcp</th>\n",
       "      <td>0.000000</td>\n",
       "      <td>0.000000</td>\n",
       "      <td>0.000000</td>\n",
       "      <td>0.000000</td>\n",
       "      <td>0.000043</td>\n",
       "    </tr>\n",
       "    <tr>\n",
       "      <th>t.a</th>\n",
       "      <td>0.000000</td>\n",
       "      <td>0.000000</td>\n",
       "      <td>0.000000</td>\n",
       "      <td>0.000000</td>\n",
       "      <td>0.000043</td>\n",
       "    </tr>\n",
       "  </tbody>\n",
       "</table>\n",
       "<p>5020 rows × 5 columns</p>\n",
       "</div>"
      ],
      "text/plain": [
       "               null       int    effect  mechanism    advise\n",
       "problems   0.001944  0.000130  0.000043   0.000000  0.000000\n",
       "of         0.552618  0.005054  0.046959   0.037757  0.019872\n",
       "treatment  0.013435  0.000043  0.001123   0.000734  0.001771\n",
       "typical    0.000086  0.000043  0.000000   0.000000  0.000000\n",
       ".          0.784301  0.009374  0.060869   0.041645  0.028555\n",
       "...             ...       ...       ...        ...       ...\n",
       "anhydrase  0.000000  0.000000  0.000000   0.000000  0.000043\n",
       "tachypnea  0.000000  0.000000  0.000000   0.000000  0.000043\n",
       "anorexia   0.000000  0.000000  0.000000   0.000000  0.000043\n",
       "pcp        0.000000  0.000000  0.000000   0.000000  0.000043\n",
       "t.a        0.000000  0.000000  0.000000   0.000000  0.000043\n",
       "\n",
       "[5020 rows x 5 columns]"
      ]
     },
     "execution_count": 162,
     "metadata": {},
     "output_type": "execute_result"
    }
   ],
   "source": [
    "# Now, to get P(w=yes, interaction), we need to multiply P(word=yes|interaction) by P(interaction)\n",
    "probabilities_yes = conditional_probabilities.copy()\n",
    "probabilities_no = conditional_probabilities.copy()\n",
    "for inter in conditional_probabilities.columns:\n",
    "    probabilities_yes[inter] = conditional_probabilities[inter] * prior_probabilities[inter]\n",
    "    probabilities_no[inter] = (1 - conditional_probabilities[inter]) * prior_probabilities[inter]\n",
    "probabilities_yes"
   ]
  },
  {
   "cell_type": "markdown",
   "id": "c8ef53bb",
   "metadata": {},
   "source": [
    "We're going to select as features the words that have the highest expected information gain with respect to the class labels.\n",
    "\n",
    "To understand this, let's first imagine two categorical variables, $Y$ and $X$, with a joint probability distribution function $P(X, Y)$. \n",
    "\n",
    "In this scenario, the entropy of $Y$ is defined as the expected information of its values, and can be calculated as:\n",
    "$$\n",
    "H(Y) = -\\sum_{i=1}^{k} P(y_i) \\log_2 P(y_i)\n",
    "$$\n",
    "Where $k$ is the number of classes, and $P(y_i)$ is the probability of class $y_i$.\n",
    "\n",
    "Now, let's say we perform a measurement of $X$ and obtain a value $x_j$. We can calculate the information gained of $Y$ given this result by computing the reduction of the entropy of $Y$:\n",
    "$$\n",
    "IG(Y|X=x_j) = H(Y) - H(Y|X=x_j)\n",
    "$$\n",
    "Where $H(Y|X=x_j)$ is the conditional entropy of $Y$ given $X=x_j$, and can be calculated as:\n",
    "$$\n",
    "H(Y|X=x_j) = -\\sum_{i=1}^{k} P(y_i|x_j) \\log_2 P(y_i|x_j)\n",
    "$$\n",
    "Where $P(y_i|x_j)$ is the conditional probability of class $y_i$ given the value $x_j$, which can be expressed in terms of the joint probability:\n",
    "$$\n",
    "P(y_i|x_j) = \\frac{P(x_j, y_i)}{P(x_j)}\n",
    "$$\n",
    "Thus, we can express the information gain of the result $x_j$ as:\n",
    "$$\n",
    "IG(Y|X=x_j) = H(Y) + \\sum_{i=1}^{k} \\frac{P(y_i, x_j)}{P(x_j)} \\log_2 \\left( \\frac{P(y_i, x_j)}{P(x_j)} \\right)\n",
    "$$\n",
    "\n",
    "Finally, let's say that we know that $X$ has $m$ possible values. Then, we can compute the expected information gain of $Y$ given $X$ as:\n",
    "$$\n",
    "E_X[IG(Y|X=x)] = IG(Y|X) = \\sum_{j=1}^{m} P(x_j) IG(Y|X=x_j)\n",
    "$$\n",
    "Where $P(x_j)$ is the marginal probability of $X=x_j$.\n",
    "\n",
    "Expanding this expression, we can see that the expected information gain of $Y$ given $X$ is:\n",
    "$$\n",
    "IG(Y|X) = H(Y) + \\sum_{j=1}^{m} \\sum_{i=1}^{k} P(y_i, x_j) \\log_2 \\left( \\frac{P(y_i, x_j)}{P(x_j)} \\right)\n",
    "$$\n",
    "\n"
   ]
  },
  {
   "cell_type": "markdown",
   "id": "1f84d0f3",
   "metadata": {},
   "source": [
    "\n",
    "Applying this to our case, we are trying to maximize the expected information gain of the class labels $I$ given the set of random variables $W_i$, where $m_i$ (the number of options per each of them) is equal to 2 (the word is present or not). Thus, we can express the expected information gain of $I$ given $W_i$ as:\n",
    "$$\n",
    "IG(I|W_i) = H(I) + \\sum_{j=1}^{k} \\left( P(I=\\mathcal{I}_j, W_i=1) \\log_2 \\left( \\frac{P(I=\\mathcal{I}_j, W_i=1)}{P(W_i=1)} \\right) + P(I=\\mathcal{I}_j, W_i=0) \\log_2 \\left( \\frac{P(I=\\mathcal{I}_j, W_i=0)}{P(W_i=0)} \\right)\\right)\n",
    "$$\n",
    "Where:\n",
    "- $I$ is the random variable that indicates the class of interaction of the document and $\\mathcal{I}_j$ is the $j$-th class.\n",
    "- $W_i$ is the random variable that indicates whether the $i$-th word is present in the document, having $W_i=1$ if it is present and $W_i=0$ otherwise."
   ]
  },
  {
   "cell_type": "code",
   "execution_count": 163,
   "id": "31520e2e",
   "metadata": {},
   "outputs": [
    {
     "name": "stdout",
     "output_type": "stream",
     "text": [
      "Entropy of the interaction classes: 0.8627\n"
     ]
    }
   ],
   "source": [
    "i_entropy = sum(-p * np.log2(p) for p in prior_probabilities if p > 0)  # H(I)\n",
    "print(f\"Entropy of the interaction classes: {i_entropy:.4f}\")"
   ]
  },
  {
   "cell_type": "code",
   "execution_count": 164,
   "id": "3bb994dd",
   "metadata": {},
   "outputs": [
    {
     "data": {
      "application/vnd.microsoft.datawrangler.viewer.v0+json": {
       "columns": [
        {
         "name": "index",
         "rawType": "object",
         "type": "string"
        },
        {
         "name": "expected_information_gain",
         "rawType": "float64",
         "type": "float"
        }
       ],
       "conversionMethod": "pd.DataFrame",
       "ref": "7c3228b6-0096-4edb-b0a2-58dd96ea32ae",
       "rows": [
        [
         "should",
         "0.05100053520130543"
        ],
        [
         "be",
         "0.03878000512198121"
        ],
        [
         "following",
         "0.02113617970129711"
        ],
        [
         "plasma",
         "0.020722882244210594"
        ],
        [
         "interact",
         "0.02025292204170215"
        ],
        [
         ":",
         "0.019742020283875616"
        ],
        [
         "protease",
         "0.016823019984437915"
        ],
        [
         "caution",
         "0.01603188056086924"
        ],
        [
         "may",
         "0.013164488030695254"
        ],
        [
         "effects",
         "0.012979529087605135"
        ],
        [
         "levels",
         "0.012508839876909206"
        ],
        [
         "oral",
         "0.012240404785801906"
        ],
        [
         "%",
         "0.011921951381587914"
        ],
        [
         ",",
         "0.011828395529154712"
        ],
        [
         "hiv",
         "0.011642182605834828"
        ],
        [
         "thyroid",
         "0.01159566702839332"
        ],
        [
         "medications",
         "0.011407994434273983"
        ],
        [
         "johns",
         "0.011233472525997712"
        ],
        [
         "classified",
         "0.011174114740980734"
        ],
        [
         "contin",
         "0.011151911705344242"
        ],
        [
         "include",
         "0.011134588992619099"
        ],
        [
         "(",
         "0.011003961696251063"
        ],
        [
         ")",
         "0.010996720674924743"
        ],
        [
         "ms",
         "0.010873552921702112"
        ],
        [
         "steroids",
         "0.01071940908800495"
        ],
        [
         "unreliable",
         "0.010696683788576689"
        ],
        [
         "man",
         "0.010587499534161604"
        ],
        [
         "inhibitors",
         "0.01055300859596775"
        ],
        [
         "*",
         "0.010549836736960971"
        ],
        [
         "st.",
         "0.01041782078894693"
        ],
        [
         "auc",
         "0.01037373912308015"
        ],
        [
         "hydrate",
         "0.010151971785199332"
        ],
        [
         "chloral",
         "0.010151971785199332"
        ],
        [
         "ie",
         "0.009909939345244312"
        ],
        [
         "concentrations",
         "0.00977413421786233"
        ],
        [
         "wort",
         "0.00965498118447683"
        ],
        [
         "warfarin",
         "0.009517615005837254"
        ],
        [
         "is",
         "0.009412531533873336"
        ],
        [
         "dietary",
         "0.009387740229031771"
        ],
        [
         "hot",
         "0.009385756054520189"
        ],
        [
         "vaccine",
         "0.00937424379544649"
        ],
        [
         "influenza",
         "0.00937424379544649"
        ],
        [
         "monoamine",
         "0.009371626981016679"
        ],
        [
         "elements",
         "0.009366101517992553"
        ],
        [
         "narcotics",
         "0.009366101517992553"
        ],
        [
         "deficiencies",
         "0.009366101517992553"
        ],
        [
         "triclofos",
         "0.009366101517992553"
        ],
        [
         "inhalation",
         "0.009366101517992553"
        ],
        [
         "oxolinic",
         "0.009366101517992553"
        ],
        [
         "overdosage",
         "0.009352146611632972"
        ]
       ],
       "shape": {
        "columns": 1,
        "rows": 5020
       }
      },
      "text/html": [
       "<div>\n",
       "<style scoped>\n",
       "    .dataframe tbody tr th:only-of-type {\n",
       "        vertical-align: middle;\n",
       "    }\n",
       "\n",
       "    .dataframe tbody tr th {\n",
       "        vertical-align: top;\n",
       "    }\n",
       "\n",
       "    .dataframe thead th {\n",
       "        text-align: right;\n",
       "    }\n",
       "</style>\n",
       "<table border=\"1\" class=\"dataframe\">\n",
       "  <thead>\n",
       "    <tr style=\"text-align: right;\">\n",
       "      <th></th>\n",
       "      <th>expected_information_gain</th>\n",
       "    </tr>\n",
       "  </thead>\n",
       "  <tbody>\n",
       "    <tr>\n",
       "      <th>should</th>\n",
       "      <td>0.051001</td>\n",
       "    </tr>\n",
       "    <tr>\n",
       "      <th>be</th>\n",
       "      <td>0.038780</td>\n",
       "    </tr>\n",
       "    <tr>\n",
       "      <th>following</th>\n",
       "      <td>0.021136</td>\n",
       "    </tr>\n",
       "    <tr>\n",
       "      <th>plasma</th>\n",
       "      <td>0.020723</td>\n",
       "    </tr>\n",
       "    <tr>\n",
       "      <th>interact</th>\n",
       "      <td>0.020253</td>\n",
       "    </tr>\n",
       "    <tr>\n",
       "      <th>...</th>\n",
       "      <td>...</td>\n",
       "    </tr>\n",
       "    <tr>\n",
       "      <th>andusing</th>\n",
       "      <td>0.000010</td>\n",
       "    </tr>\n",
       "    <tr>\n",
       "      <th>mayuse</th>\n",
       "      <td>0.000010</td>\n",
       "    </tr>\n",
       "    <tr>\n",
       "      <th>co-infected</th>\n",
       "      <td>0.000010</td>\n",
       "    </tr>\n",
       "    <tr>\n",
       "      <th>treatpatients</th>\n",
       "      <td>0.000010</td>\n",
       "    </tr>\n",
       "    <tr>\n",
       "      <th>2e1</th>\n",
       "      <td>0.000010</td>\n",
       "    </tr>\n",
       "  </tbody>\n",
       "</table>\n",
       "<p>5020 rows × 1 columns</p>\n",
       "</div>"
      ],
      "text/plain": [
       "               expected_information_gain\n",
       "should                          0.051001\n",
       "be                              0.038780\n",
       "following                       0.021136\n",
       "plasma                          0.020723\n",
       "interact                        0.020253\n",
       "...                                  ...\n",
       "andusing                        0.000010\n",
       "mayuse                          0.000010\n",
       "co-infected                     0.000010\n",
       "treatpatients                   0.000010\n",
       "2e1                             0.000010\n",
       "\n",
       "[5020 rows x 1 columns]"
      ]
     },
     "execution_count": 164,
     "metadata": {},
     "output_type": "execute_result"
    }
   ],
   "source": [
    "word_expected_information_gain = {}\n",
    "for word in probabilities_yes.index:\n",
    "    s = 0\n",
    "    for inter in probabilities_yes.columns:\n",
    "        joint_prob_yes = probabilities_yes.loc[word, inter]\n",
    "        joint_prob_no = probabilities_no.loc[word, inter]\n",
    "        if joint_prob_yes > 0:\n",
    "            s += joint_prob_yes * np.log2(joint_prob_yes / word_probs.loc[word, \"prob_yes\"])\n",
    "        if joint_prob_no > 0:\n",
    "            s += joint_prob_no * np.log2(joint_prob_no / word_probs.loc[word, \"prob_no\"])\n",
    "    word_expected_information_gain[word] = i_entropy + s\n",
    "\n",
    "word_expected_information_gain = pd.DataFrame.from_dict(\n",
    "    word_expected_information_gain, orient=\"index\", columns=[\"expected_information_gain\"]\n",
    ")\n",
    "word_expected_information_gain.sort_values(by=\"expected_information_gain\", ascending=False, inplace=True)\n",
    "word_expected_information_gain"
   ]
  },
  {
   "cell_type": "code",
   "execution_count": 165,
   "id": "fab22c63",
   "metadata": {},
   "outputs": [],
   "source": [
    "word_expected_information_gain.to_csv(\"../data/word_expected_information_gain.csv\")"
   ]
  }
 ],
 "metadata": {
  "kernelspec": {
   "display_name": ".venv",
   "language": "python",
   "name": "python3"
  },
  "language_info": {
   "codemirror_mode": {
    "name": "ipython",
    "version": 3
   },
   "file_extension": ".py",
   "mimetype": "text/x-python",
   "name": "python",
   "nbconvert_exporter": "python",
   "pygments_lexer": "ipython3",
   "version": "3.12.3"
  }
 },
 "nbformat": 4,
 "nbformat_minor": 5
}
